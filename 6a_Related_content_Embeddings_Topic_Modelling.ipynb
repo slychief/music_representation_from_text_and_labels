{
 "cells": [
  {
   "cell_type": "markdown",
   "metadata": {
    "Collapsed": "false"
   },
   "source": [
    "# Configuration"
   ]
  },
  {
   "cell_type": "code",
   "execution_count": 1,
   "metadata": {
    "Collapsed": "false"
   },
   "outputs": [],
   "source": [
    "# directory to store intermediate and final results of the experiment\n",
    "EXPERIMENT_DIR                 = \"/home/schindlera/experiments/ismir2020_reviews/\"\n",
    "\n",
    "METADATA_PATH                  = EXPERIMENT_DIR + \"/experiment_partition.h5\""
   ]
  },
  {
   "cell_type": "markdown",
   "metadata": {
    "Collapsed": "false"
   },
   "source": [
    "# Imports"
   ]
  },
  {
   "cell_type": "code",
   "execution_count": 114,
   "metadata": {
    "Collapsed": "false"
   },
   "outputs": [],
   "source": [
    "%matplotlib inline\n",
    "import matplotlib.pyplot as plt\n",
    "\n",
    "import os\n",
    "import pandas as pd\n",
    "import numpy as np\n",
    "\n",
    "import progressbar as pb\n",
    "\n",
    "from gensim import corpora, models, similarities"
   ]
  },
  {
   "cell_type": "markdown",
   "metadata": {
    "Collapsed": "false"
   },
   "source": [
    "# Load and Process Metadata"
   ]
  },
  {
   "cell_type": "code",
   "execution_count": 7,
   "metadata": {
    "Collapsed": "false"
   },
   "outputs": [],
   "source": [
    "# Load Metadata\n",
    "metadata_final         = pd.read_hdf(METADATA_PATH, \"data\")"
   ]
  },
  {
   "cell_type": "code",
   "execution_count": 9,
   "metadata": {
    "Collapsed": "false"
   },
   "outputs": [],
   "source": [
    "metadata_train = metadata_final[metadata_final.train]\n",
    "metadata_test  = metadata_final[metadata_final.test ]\n",
    "metadata_val   = metadata_final[metadata_final.val  ]"
   ]
  },
  {
   "cell_type": "code",
   "execution_count": 13,
   "metadata": {
    "Collapsed": "false"
   },
   "outputs": [
    {
     "data": {
      "text/plain": [
       "(247480, 254636, 2500)"
      ]
     },
     "execution_count": 13,
     "metadata": {},
     "output_type": "execute_result"
    }
   ],
   "source": [
    "metadata_train.shape[0], metadata_test.shape[0], metadata_val.shape[0]"
   ]
  },
  {
   "cell_type": "markdown",
   "metadata": {
    "Collapsed": "false"
   },
   "source": [
    "# Functions"
   ]
  },
  {
   "cell_type": "code",
   "execution_count": 91,
   "metadata": {
    "Collapsed": "false"
   },
   "outputs": [],
   "source": [
    "def merge_and_sort_tags(row):\n",
    "    \n",
    "    merged_tags = []\n",
    "    \n",
    "    for col in row.index:\n",
    "        \n",
    "        is_nan = pd.isnull(row[col])\n",
    "        \n",
    "        if type(is_nan) != bool:\n",
    "            is_nan = is_nan.all()\n",
    "        \n",
    "        if not is_nan:\n",
    "            merged_tags.extend(row[col])\n",
    "            \n",
    "    return sorted(merged_tags)"
   ]
  },
  {
   "cell_type": "code",
   "execution_count": 103,
   "metadata": {
    "Collapsed": "false"
   },
   "outputs": [],
   "source": [
    "def sparse_to_dense(vec):\n",
    "\n",
    "    dense_vec = np.zeros(NUM_LSI_TOPICS)\n",
    "\n",
    "    for v in vec:\n",
    "        dense_vec[v[0]] = v[1]\n",
    "\n",
    "    return dense_vec"
   ]
  },
  {
   "cell_type": "code",
   "execution_count": 119,
   "metadata": {
    "Collapsed": "false"
   },
   "outputs": [],
   "source": [
    "def calc_topic_vectors(joined_tags, dictionary, topic_model):\n",
    "\n",
    "    topic_vectors = []\n",
    "\n",
    "    for tid in pb.ProgressBar()(joined_tags.index):\n",
    "\n",
    "        query_doc       = joined_tags.loc[tid]\n",
    "\n",
    "        vec_bow         = dictionary.doc2bow(query_doc)\n",
    "        vec_topic_model = topic_model[vec_bow]\n",
    "        vec_topic_model = sparse_to_dense(vec_topic_model)\n",
    "        topic_vectors.append(vec_topic_model)\n",
    "\n",
    "\n",
    "    return np.stack(topic_vectors, axis=0), joined_tags.index"
   ]
  },
  {
   "cell_type": "markdown",
   "metadata": {
    "Collapsed": "false"
   },
   "source": [
    "# Topic Modelling"
   ]
  },
  {
   "cell_type": "markdown",
   "metadata": {
    "Collapsed": "false"
   },
   "source": [
    "## Latent Semantic Indexing"
   ]
  },
  {
   "cell_type": "markdown",
   "metadata": {
    "Collapsed": "false"
   },
   "source": [
    "### Derive Topic Model from Tagset"
   ]
  },
  {
   "cell_type": "markdown",
   "metadata": {
    "Collapsed": "false"
   },
   "source": [
    "Configuration"
   ]
  },
  {
   "cell_type": "code",
   "execution_count": 101,
   "metadata": {
    "Collapsed": "false"
   },
   "outputs": [],
   "source": [
    "NUM_LSI_TOPICS = 340\n",
    "TAG_SET        = [\"styles\", \"moods\", \"themes\", \"genres\"]"
   ]
  },
  {
   "cell_type": "markdown",
   "metadata": {
    "Collapsed": "false"
   },
   "source": [
    "Join Tags from configured Tag-Sets"
   ]
  },
  {
   "cell_type": "code",
   "execution_count": 92,
   "metadata": {
    "Collapsed": "false"
   },
   "outputs": [],
   "source": [
    "md_joined_tags_train = metadata_train[TAG_SET].apply(lambda x: merge_and_sort_tags(x), axis=1)"
   ]
  },
  {
   "cell_type": "markdown",
   "metadata": {
    "Collapsed": "false"
   },
   "source": [
    "Derive LSI Topic Model"
   ]
  },
  {
   "cell_type": "code",
   "execution_count": 96,
   "metadata": {
    "Collapsed": "false"
   },
   "outputs": [],
   "source": [
    "tag_dictionary    = corpora.Dictionary(md_joined_tags_train)\n",
    "\n",
    "tag_corpus        = [tag_dictionary.doc2bow(doc) for doc in md_joined_tags_train]\n",
    "\n",
    "tag_tfidf         = models.TfidfModel(tag_corpus)\n",
    "tag_corpus_tfidf  = tag_tfidf[tag_corpus]\n",
    "\n",
    "tag_lsi           = models.LsiModel(tag_corpus_tfidf, id2word=tag_dictionary, num_topics=NUM_LSI_TOPICS)"
   ]
  },
  {
   "cell_type": "markdown",
   "metadata": {
    "Collapsed": "false"
   },
   "source": [
    "Embedd all Tags for all Tracks in Topic-Model"
   ]
  },
  {
   "cell_type": "code",
   "execution_count": 115,
   "metadata": {
    "Collapsed": "false"
   },
   "outputs": [],
   "source": [
    "md_joined_tags_all = metadata_final[TAG_SET].apply(lambda x: merge_and_sort_tags(x), axis=1)"
   ]
  },
  {
   "cell_type": "code",
   "execution_count": 124,
   "metadata": {
    "Collapsed": "false"
   },
   "outputs": [
    {
     "name": "stderr",
     "output_type": "stream",
     "text": [
      "100% (504616 of 504616) |################| Elapsed Time: 0:04:33 Time:  0:04:33\n"
     ]
    }
   ],
   "source": [
    "lsi_vectors, lsi_track_ids = calc_topic_vectors(md_joined_tags_all, tag_dictionary, tag_lsi)"
   ]
  },
  {
   "cell_type": "code",
   "execution_count": 125,
   "metadata": {
    "Collapsed": "false"
   },
   "outputs": [],
   "source": [
    "pd_lsi_vectors = pd.DataFrame(lsi_vectors, index=lsi_track_ids)"
   ]
  },
  {
   "cell_type": "markdown",
   "metadata": {
    "Collapsed": "false"
   },
   "source": [
    "### Store Topic Embeddings"
   ]
  },
  {
   "cell_type": "code",
   "execution_count": 137,
   "metadata": {
    "Collapsed": "false"
   },
   "outputs": [],
   "source": [
    "for par in [\"train\", \"val\", \"test\"]:\n",
    "    \n",
    "    # path to partition file\n",
    "    par_file = \"%s/eval_partition_trackids_%s.csv\" % (EXPERIMENT_DIR, par)\n",
    "    \n",
    "    # load partition\n",
    "    par_trackids = pd.read_csv(par_file, header=None, index_col=0)\n",
    "\n",
    "    # slice topic vectors and align with partition file (should be in synch with audio features)\n",
    "    par_lsi_vectors = pd_lsi_vectors.loc[par_trackids.index]\n",
    "\n",
    "    # save embeddings for this partition\n",
    "    np.savez(file     = \"%s/rel_content_emb_tag_lsi_%s.npz\" % (EXPERIMENT_DIR, par), \n",
    "             data     = par_lsi_vectors.values.astype(np.float32), \n",
    "             trackids = par_lsi_vectors.index)"
   ]
  },
  {
   "cell_type": "code",
   "execution_count": null,
   "metadata": {},
   "outputs": [],
   "source": []
  }
 ],
 "metadata": {
  "kernelspec": {
   "display_name": "base36",
   "language": "python",
   "name": "base36"
  },
  "language_info": {
   "codemirror_mode": {
    "name": "ipython",
    "version": 3
   },
   "file_extension": ".py",
   "mimetype": "text/x-python",
   "name": "python",
   "nbconvert_exporter": "python",
   "pygments_lexer": "ipython3",
   "version": "3.6.10"
  }
 },
 "nbformat": 4,
 "nbformat_minor": 4
}
