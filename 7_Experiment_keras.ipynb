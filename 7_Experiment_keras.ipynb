{
 "cells": [
  {
   "cell_type": "markdown",
   "metadata": {
    "Collapsed": "false"
   },
   "source": [
    "# Configuration"
   ]
  },
  {
   "cell_type": "code",
   "execution_count": null,
   "metadata": {
    "Collapsed": "false"
   },
   "outputs": [],
   "source": [
    "config = [\n",
    "    \n",
    "\"--experimentdir\", \"/home/schindlera/experiments/ismir2020_reviews/\",\n",
    "\"--modeldir\"     , \"/home/schindlera/experiments/ismir2020_reviews/\",\n",
    "    \n",
    "\"--relcontent\"   , \"rel_content_emb_tag_lsi_debug\", \n",
    "\"--audio\"        , \"melspec_128_10seconds_2ch_norm_debug\", \n",
    "    \n",
    "\"--model\"        , \"kim2019\",     \n",
    "\"--gpu\"          , \"0\",\n",
    "    \n",
    "\"--loss\"         , \"original\", \n",
    "\"--lossagg\"      , \"max\", \n",
    "\"--margin\"       , \"1.0\", \n",
    "\"--uppersim\"     , \"0.90\", \n",
    "\"--lowersim\"     , \"0.85\", \n",
    "    \n",
    "\"--finaldim\"     , \"128\", \n",
    "\"--epochs\"       , \"10\", \n",
    "\"--learnrate\"    , \"0.0001\",\n",
    "\"--batchsize\"    , \"1000\"\n",
    "    \n",
    "]"
   ]
  },
  {
   "cell_type": "markdown",
   "metadata": {
    "Collapsed": "false"
   },
   "source": [
    "# Data Loading & Preprocessing"
   ]
  },
  {
   "cell_type": "code",
   "execution_count": null,
   "metadata": {
    "Collapsed": "false"
   },
   "outputs": [],
   "source": [
    "import sys\n",
    "import argparse\n",
    "import logging"
   ]
  },
  {
   "cell_type": "code",
   "execution_count": 3,
   "metadata": {
    "Collapsed": "false"
   },
   "outputs": [],
   "source": [
    "\n",
    "parser = argparse.ArgumentParser()\n",
    "\n",
    "parser.add_argument('--relcontent',    type=str)\n",
    "parser.add_argument('--model',         type=str)\n",
    "parser.add_argument('--audio',         type=str)\n",
    "parser.add_argument('--experimentdir', type=str)\n",
    "parser.add_argument('--modeldir',      type=str)\n",
    "parser.add_argument('--gpu',           type=int)\n",
    "parser.add_argument('--finaldim',      type=int)\n",
    "parser.add_argument('--lossagg',       type=str, default=\"min\")\n",
    "parser.add_argument('--loss',          type=str, default=\"original\")\n",
    "parser.add_argument('--batchsize',     type=int, default=1000)\n",
    "parser.add_argument('--margin',        type=float)\n",
    "parser.add_argument('--learnrate',     type=float, default=0.0001)\n",
    "parser.add_argument('--uppersim',      type=float)\n",
    "parser.add_argument('--lowersim',      type=float)\n",
    "parser.add_argument('--epochs',        type=int, default=100)\n",
    "parser.add_argument(\"--log-level\", default=logging.DEBUG, type=lambda x: getattr(logger, x), help=\"Configure the logger level.\")\n",
    "\n",
    "if sys.argv[0].find(\"ipykernel_launcher\") != -1:\n",
    "    args = parser.parse_args(config)\n",
    "else:\n",
    "    args = parser.parse_args()"
   ]
  },
  {
   "cell_type": "markdown",
   "metadata": {
    "Collapsed": "false"
   },
   "source": [
    "# Imports"
   ]
  },
  {
   "cell_type": "code",
   "execution_count": 4,
   "metadata": {
    "Collapsed": "false"
   },
   "outputs": [],
   "source": [
    "import os\n",
    "#os.environ[\"CUDA_VISIBLE_DEVICES\"] = str(args.gpu)\n",
    "\n",
    "import json\n",
    "\n",
    "import numpy as np\n",
    "import pandas as pd\n",
    "\n",
    "import torch\n",
    "from torch import nn\n",
    "import torch.nn.functional as F\n",
    "import torch.optim as optim\n",
    "from torch.utils.data import Dataset, DataLoader\n",
    "\n",
    "from torchsummary import summary\n",
    "\n",
    "from tqdm.auto import tqdm"
   ]
  },
  {
   "cell_type": "code",
   "execution_count": 5,
   "metadata": {
    "Collapsed": "false"
   },
   "outputs": [],
   "source": [
    "import os\n",
    "\n",
    "import numpy as np\n",
    "import pandas as pd\n",
    "import tensorflow as tf\n",
    "from numpy.random import seed\n",
    "from scipy.spatial.distance import cdist\n",
    "from sklearn.model_selection import GroupShuffleSplit, ShuffleSplit\n",
    "from tensorflow.keras import backend as K\n",
    "from tensorflow.keras.callbacks import ModelCheckpoint, TensorBoard, CSVLogger\n",
    "from tensorflow.keras.constraints import MinMaxNorm, unit_norm\n",
    "from tensorflow.keras.initializers import he_normal, he_uniform\n",
    "from tensorflow.keras.layers import (ELU, AlphaDropout, AveragePooling2D,\n",
    "                                     BatchNormalization, Concatenate, Conv2D,\n",
    "                                     Dense, Dropout, Flatten, GaussianNoise,\n",
    "                                     GlobalAveragePooling2D, Input, Lambda,\n",
    "                                     LeakyReLU, MaxPooling2D, ReLU,\n",
    "                                     SpatialDropout2D)\n",
    "from tensorflow.keras.models import Model, load_model\n",
    "from tensorflow.keras.optimizers import SGD, Adagrad, Adam, Nadam, RMSprop\n",
    "from tensorflow.keras.regularizers import l1, l2\n",
    "from tensorflow.keras.utils import normalize\n",
    "from tensorflow.python.framework import dtypes\n",
    "from tensorflow.python.ops import array_ops, math_ops\n",
    "\n",
    "import tensorflow_addons as tfa"
   ]
  },
  {
   "cell_type": "code",
   "execution_count": 6,
   "metadata": {
    "Collapsed": "false"
   },
   "outputs": [],
   "source": [
    "# control random processes\n",
    "np.random.seed(1)"
   ]
  },
  {
   "cell_type": "code",
   "execution_count": 7,
   "metadata": {
    "Collapsed": "false"
   },
   "outputs": [],
   "source": [
    "# import model from definition file\n",
    "from importlib import import_module\n",
    "model_def = import_module(args.model)"
   ]
  },
  {
   "cell_type": "markdown",
   "metadata": {
    "Collapsed": "false"
   },
   "source": [
    "# Functions"
   ]
  },
  {
   "cell_type": "code",
   "execution_count": 8,
   "metadata": {
    "Collapsed": "false"
   },
   "outputs": [],
   "source": [
    "def prepare_model_dir(model_path):\n",
    "    if not os.path.exists(model_path):\n",
    "        os.makedirs(model_path)"
   ]
  },
  {
   "cell_type": "markdown",
   "metadata": {
    "Collapsed": "false"
   },
   "source": [
    "# Initialize Experiment"
   ]
  },
  {
   "cell_type": "markdown",
   "metadata": {
    "Collapsed": "false"
   },
   "source": [
    "## Init Logger"
   ]
  },
  {
   "cell_type": "code",
   "execution_count": 9,
   "metadata": {
    "Collapsed": "false"
   },
   "outputs": [
    {
     "name": "stdout",
     "output_type": "stream",
     "text": [
      "2020-04-29 14:59:11 - experiment.py - INFO - +------------------------------------------------------------------+\n",
      "2020-04-29 14:59:11 - experiment.py - INFO - | STARTING EXPERIMENT                                              |\n",
      "2020-04-29 14:59:11 - experiment.py - INFO - +------------------------------------------------------------------+\n",
      "2020-04-29 14:59:11 - experiment.py - INFO - Logger initialized\n",
      "2020-04-29 14:59:11 - experiment.py - INFO - Initializing model experiment directory\n",
      "2020-04-29 14:59:11 - experiment.py - INFO - Initializing logger filehandler\n"
     ]
    }
   ],
   "source": [
    "logger = logging.getLogger(\"experiment.py\")\n",
    "logger.setLevel(logging.DEBUG)\n",
    "\n",
    "formatter = logging.Formatter('%(asctime)s - %(name)s - %(levelname)s - %(message)s', datefmt='%Y-%m-%d %H:%M:%S')\n",
    "\n",
    "ch = logging.StreamHandler(sys.stdout)\n",
    "ch.setLevel(logging.DEBUG)\n",
    "ch.setFormatter(formatter)\n",
    "logger.addHandler(ch)\n",
    "\n",
    "logger.info(\"+------------------------------------------------------------------+\")\n",
    "logger.info(\"| STARTING EXPERIMENT                                              |\")\n",
    "logger.info(\"+------------------------------------------------------------------+\")\n",
    "logger.info(\"Logger initialized\")\n",
    "\n",
    "logger.info(\"Initializing model experiment directory\")\n",
    "model_storage_path = prepare_model_dir(args.modeldir)\n",
    "\n",
    "logger.info(\"Initializing logger filehandler\")\n",
    "fh = logging.FileHandler(\"%s/experiment.log\" % args.modeldir)\n",
    "fh.setLevel(logging.DEBUG)\n",
    "fh.setFormatter(formatter)\n",
    "\n",
    "logger.addHandler(fh)"
   ]
  },
  {
   "cell_type": "markdown",
   "metadata": {
    "Collapsed": "false"
   },
   "source": [
    "Print Experiment Summary"
   ]
  },
  {
   "cell_type": "code",
   "execution_count": 10,
   "metadata": {
    "Collapsed": "false"
   },
   "outputs": [
    {
     "name": "stdout",
     "output_type": "stream",
     "text": [
      "2020-04-29 14:59:11 - experiment.py - INFO - +------------------------------------------------------------------+\n",
      "2020-04-29 14:59:11 - experiment.py - INFO - | EXPERIMENT:                                                      |\n",
      "2020-04-29 14:59:11 - experiment.py - INFO - +------------------------------------------------------------------+\n",
      "2020-04-29 14:59:11 - experiment.py - INFO - | Experiment directory              : /home/schindlera/experiments/ismir2020_reviews/\n",
      "2020-04-29 14:59:11 - experiment.py - INFO - | Model-Directory                   : /home/schindlera/experiments/ismir2020_reviews/\n",
      "2020-04-29 14:59:11 - experiment.py - INFO - | Related content filename          : rel_content_emb_tag_lsi_debug\n",
      "2020-04-29 14:59:11 - experiment.py - INFO - | Audio-Features filename           : melspec_128_10seconds_2ch_norm_debug\n",
      "2020-04-29 14:59:11 - experiment.py - INFO - | GPU                               : 0\n",
      "2020-04-29 14:59:11 - experiment.py - INFO - +------------------------------------------------------------------+\n",
      "2020-04-29 14:59:11 - experiment.py - INFO - | Model                             : kim2019\n",
      "2020-04-29 14:59:11 - experiment.py - INFO - | Dimensions Final Music-Embeddings : 128\n",
      "2020-04-29 14:59:11 - experiment.py - INFO - +------------------------------------------------------------------+\n",
      "2020-04-29 14:59:11 - experiment.py - INFO - | Loss                              : original\n",
      "2020-04-29 14:59:11 - experiment.py - INFO - | Loss-Aggregation                  : max\n",
      "2020-04-29 14:59:11 - experiment.py - INFO - | Upper Sim                         : 0.900000\n",
      "2020-04-29 14:59:11 - experiment.py - INFO - | Margin                            : 1.000000\n",
      "2020-04-29 14:59:11 - experiment.py - INFO - +------------------------------------------------------------------+\n",
      "2020-04-29 14:59:11 - experiment.py - INFO - | Learn Rate                        : 0.000100\n",
      "2020-04-29 14:59:11 - experiment.py - INFO - | Batch Size                        : 1000\n",
      "2020-04-29 14:59:11 - experiment.py - INFO - | Num Epochs                        : 10\n",
      "2020-04-29 14:59:11 - experiment.py - INFO - +------------------------------------------------------------------+\n"
     ]
    }
   ],
   "source": [
    "logger.info(\"+------------------------------------------------------------------+\")\n",
    "logger.info(\"| EXPERIMENT:                                                      |\")\n",
    "logger.info(\"+------------------------------------------------------------------+\")\n",
    "logger.info(\"| Experiment directory              : %s\"           % args.experimentdir)\n",
    "logger.info(\"| Model-Directory                   : %s\"           % args.modeldir)\n",
    "logger.info(\"| Related content filename          : %s\"           % args.relcontent)\n",
    "logger.info(\"| Audio-Features filename           : %s\"           % args.audio)\n",
    "logger.info(\"| GPU                               : %d\"           % args.gpu)\n",
    "logger.info(\"+------------------------------------------------------------------+\")\n",
    "logger.info(\"| Model                             : %s\"           % args.model)\n",
    "logger.info(\"| Dimensions Final Music-Embeddings : %d\"           % args.finaldim)\n",
    "logger.info(\"+------------------------------------------------------------------+\")\n",
    "logger.info(\"| Loss                              : %s\"           % args.loss)\n",
    "logger.info(\"| Loss-Aggregation                  : %s\"           % args.lossagg)\n",
    "logger.info(\"| Upper Sim                         : %f\"           % args.uppersim)\n",
    "logger.info(\"| Margin                            : %f\"           % args.margin)\n",
    "logger.info(\"+------------------------------------------------------------------+\")\n",
    "logger.info(\"| Learn Rate                        : %f\"           % args.learnrate)\n",
    "logger.info(\"| Batch Size                        : %d\"           % args.batchsize)\n",
    "logger.info(\"| Num Epochs                        : %d\"           % args.epochs)\n",
    "logger.info(\"+------------------------------------------------------------------+\")"
   ]
  },
  {
   "cell_type": "markdown",
   "metadata": {
    "Collapsed": "false"
   },
   "source": [
    "Store configuration for reproducability"
   ]
  },
  {
   "cell_type": "code",
   "execution_count": 11,
   "metadata": {
    "Collapsed": "false"
   },
   "outputs": [],
   "source": [
    "with open(\"%s/experiment_arguments.json\" % args.modeldir, 'w') as json_file:\n",
    "    args_json = json.dump(vars(args), json_file)"
   ]
  },
  {
   "cell_type": "markdown",
   "metadata": {
    "Collapsed": "false"
   },
   "source": [
    "## Load Audio Data"
   ]
  },
  {
   "cell_type": "code",
   "execution_count": 12,
   "metadata": {
    "Collapsed": "false"
   },
   "outputs": [
    {
     "name": "stdout",
     "output_type": "stream",
     "text": [
      "2020-04-29 14:59:11 - experiment.py - INFO - * Load Audio Data\n"
     ]
    }
   ],
   "source": [
    "logger.info(\"* Load Audio Data\")"
   ]
  },
  {
   "cell_type": "markdown",
   "metadata": {
    "Collapsed": "false"
   },
   "source": [
    "Load Audio Data - Train Partition"
   ]
  },
  {
   "cell_type": "code",
   "execution_count": 13,
   "metadata": {
    "Collapsed": "false"
   },
   "outputs": [
    {
     "name": "stdout",
     "output_type": "stream",
     "text": [
      "2020-04-29 14:59:11 - experiment.py - INFO - * Load Audio Data - Train Partition\n",
      "CPU times: user 10 s, sys: 4.74 s, total: 14.7 s\n",
      "Wall time: 22.3 s\n"
     ]
    }
   ],
   "source": [
    "%%time\n",
    "logger.info(\"* Load Audio Data - Train Partition\")\n",
    "\n",
    "# load partition trackid file\n",
    "par_file           = \"%s/eval_partition_trackids_train.csv\" % (args.experimentdir)\n",
    "par_trackids_train = pd.read_csv(par_file, header=None, index_col=0)\n",
    "\n",
    "# load audio content\n",
    "par_filename_audio_train = \"%s/%s_train.npz\" % (args.experimentdir, args.audio)\n",
    "\n",
    "with np.load(par_filename_audio_train, allow_pickle=True) as npz:\n",
    "    data_audio_train      = npz[\"data\"]\n",
    "    track_ids_audio_train = npz[\"track_ids\"].astype(str)\n",
    "    \n",
    "lookup_audio_train = pd.DataFrame(np.arange(track_ids_audio_train.shape[0], dtype=int), \n",
    "                                  index   = track_ids_audio_train, \n",
    "                                  columns = [\"feature_line_nr\"])"
   ]
  },
  {
   "cell_type": "code",
   "execution_count": 14,
   "metadata": {
    "Collapsed": "false"
   },
   "outputs": [],
   "source": [
    "# CHECK: ids and data have same length\n",
    "assert(data_audio_train.shape[0] == track_ids_audio_train.shape[0])"
   ]
  },
  {
   "cell_type": "code",
   "execution_count": 15,
   "metadata": {
    "Collapsed": "false"
   },
   "outputs": [],
   "source": [
    "#par_trackids_train.index.values == track_ids_audio_train"
   ]
  },
  {
   "cell_type": "markdown",
   "metadata": {
    "Collapsed": "false"
   },
   "source": [
    "Load Audio Data - Validation Partition"
   ]
  },
  {
   "cell_type": "code",
   "execution_count": 16,
   "metadata": {
    "Collapsed": "false"
   },
   "outputs": [
    {
     "name": "stdout",
     "output_type": "stream",
     "text": [
      "2020-04-29 14:59:33 - experiment.py - INFO - * Load Audio Data - Validation Partition\n"
     ]
    }
   ],
   "source": [
    "logger.info(\"* Load Audio Data - Validation Partition\")\n",
    "\n",
    "# load partition trackid file\n",
    "par_file         = \"%s/eval_partition_trackids_val.csv\" % (args.experimentdir)\n",
    "par_trackids_val = pd.read_csv(par_file, header=None, index_col=0)\n",
    "\n",
    "# load audio content\n",
    "par_filename_audio_val = \"%s/%s_val.npz\" % (args.experimentdir, args.audio)\n",
    "\n",
    "with np.load(par_filename_audio_val, allow_pickle=True) as npz:\n",
    "    data_audio_val      = npz[\"data\"]\n",
    "    track_ids_audio_val = npz[\"track_ids\"].astype(str)\n",
    "    \n",
    "lookup_audio_val = pd.DataFrame(np.arange(track_ids_audio_val.shape[0], dtype=int), \n",
    "                                  index   = track_ids_audio_val, \n",
    "                                  columns = [\"feature_line_nr\"])"
   ]
  },
  {
   "cell_type": "code",
   "execution_count": 17,
   "metadata": {
    "Collapsed": "false"
   },
   "outputs": [],
   "source": [
    "# CHECK: ids and data have same length\n",
    "assert(data_audio_val.shape[0] == track_ids_audio_val.shape[0])"
   ]
  },
  {
   "cell_type": "code",
   "execution_count": 18,
   "metadata": {
    "Collapsed": "false"
   },
   "outputs": [
    {
     "name": "stdout",
     "output_type": "stream",
     "text": [
      "2020-04-29 14:59:39 - experiment.py - INFO - Num instances - audio data train : 10000\n",
      "2020-04-29 14:59:39 - experiment.py - INFO - Num instances - audio data val   : 2500\n",
      "2020-04-29 14:59:39 - experiment.py - INFO - data_audio dimensions            : (10000, 128, 880, 2)\n"
     ]
    }
   ],
   "source": [
    "logger.info(\"Num instances - audio data train : %d\" % data_audio_train.shape[0])\n",
    "logger.info(\"Num instances - audio data val   : %d\" % data_audio_val.shape[0])\n",
    "logger.info(\"data_audio dimensions            : %s\" % str(data_audio_train.shape))"
   ]
  },
  {
   "cell_type": "markdown",
   "metadata": {
    "Collapsed": "false"
   },
   "source": [
    "## Load Related Content"
   ]
  },
  {
   "cell_type": "code",
   "execution_count": 19,
   "metadata": {
    "Collapsed": "false"
   },
   "outputs": [
    {
     "name": "stdout",
     "output_type": "stream",
     "text": [
      "2020-04-29 14:59:39 - experiment.py - INFO - * Load Related Content Embeddings\n"
     ]
    }
   ],
   "source": [
    "logger.info(\"* Load Related Content Embeddings\")"
   ]
  },
  {
   "cell_type": "markdown",
   "metadata": {
    "Collapsed": "false"
   },
   "source": [
    "Train Partition"
   ]
  },
  {
   "cell_type": "code",
   "execution_count": 20,
   "metadata": {
    "Collapsed": "false"
   },
   "outputs": [],
   "source": [
    "par_filename_relcontent_train = \"%s/%s_train.npz\" % (args.experimentdir, args.relcontent)\n",
    "\n",
    "with np.load(par_filename_relcontent_train, allow_pickle=True) as npz:\n",
    "    data_relcontent_train     = npz[\"data\"]\n",
    "    trackids_relcontent_train = npz[\"trackids\"].astype(str)\n",
    "\n",
    "lookup_relcontent_train = pd.DataFrame(np.arange(trackids_relcontent_train.shape[0], dtype=int), \n",
    "                                       index   = trackids_relcontent_train, \n",
    "                                       columns = [\"feature_line_nr\"])\n",
    "\n",
    "# CHECK: ids and data have same length\n",
    "assert(data_relcontent_train.shape[0] == trackids_relcontent_train.shape[0])\n",
    "\n",
    "# CHECK: ids of text and audio are aligned\n",
    "#assert((track_ids_text == track_ids_audio).sum() == track_ids_audio.shape[0])"
   ]
  },
  {
   "cell_type": "markdown",
   "metadata": {
    "Collapsed": "false"
   },
   "source": [
    "Validation Partition"
   ]
  },
  {
   "cell_type": "code",
   "execution_count": 21,
   "metadata": {
    "Collapsed": "false"
   },
   "outputs": [],
   "source": [
    "par_filename_relcontent_val = \"%s/%s_val.npz\" % (args.experimentdir, args.relcontent)\n",
    "\n",
    "with np.load(par_filename_relcontent_val, allow_pickle=True) as npz:\n",
    "    data_relcontent_val     = npz[\"data\"]\n",
    "    trackids_relcontent_val = npz[\"trackids\"].astype(str)\n",
    "\n",
    "lookup_relcontent_val = pd.DataFrame(np.arange(trackids_relcontent_val.shape[0], dtype=int), \n",
    "                                       index   = trackids_relcontent_val, \n",
    "                                       columns = [\"feature_line_nr\"])\n",
    "\n",
    "# CHECK: ids and data have same length\n",
    "assert(data_relcontent_val.shape[0] == trackids_relcontent_val.shape[0])\n",
    "\n",
    "# CHECK: ids of text and audio are aligned\n",
    "#assert((track_ids_text == track_ids_audio).sum() == track_ids_audio.shape[0])"
   ]
  },
  {
   "cell_type": "code",
   "execution_count": 22,
   "metadata": {
    "Collapsed": "false"
   },
   "outputs": [
    {
     "name": "stdout",
     "output_type": "stream",
     "text": [
      "2020-04-29 14:59:39 - experiment.py - INFO - Num instances - related content train : 10000\n",
      "2020-04-29 14:59:39 - experiment.py - INFO - Num instances - related content val   : 2500\n",
      "2020-04-29 14:59:39 - experiment.py - INFO - data_relcontent dimensions            : (10000, 340)\n",
      "2020-04-29 14:59:39 - experiment.py - INFO - TEXT_EMBEDDINGS_DIMENSIONS            : 340\n",
      "2020-04-29 14:59:39 - experiment.py - INFO - +------------------------------------------------------------------+\n"
     ]
    }
   ],
   "source": [
    "logger.info(\"Num instances - related content train : %d\" % data_relcontent_train.shape[0])\n",
    "logger.info(\"Num instances - related content val   : %d\" % data_relcontent_val.shape[0])\n",
    "logger.info(\"data_relcontent dimensions            : %s\" % str(data_relcontent_train.shape))\n",
    "logger.info(\"TEXT_EMBEDDINGS_DIMENSIONS            : %d\" % data_relcontent_train.shape[1])\n",
    "logger.info(\"+------------------------------------------------------------------+\")"
   ]
  },
  {
   "cell_type": "code",
   "execution_count": 23,
   "metadata": {
    "Collapsed": "false"
   },
   "outputs": [
    {
     "name": "stdout",
     "output_type": "stream",
     "text": [
      "2020-04-29 14:59:39 - experiment.py - INFO - Partitions overview - train/val\n",
      "2020-04-29 14:59:39 - experiment.py - INFO - data_audio_train      dimensions    : (10000, 128, 880, 2)\n",
      "2020-04-29 14:59:39 - experiment.py - INFO - data_relcontent_train dimensions    : (10000, 340)\n",
      "2020-04-29 14:59:39 - experiment.py - INFO - data_audio_val        dimensions    : (2500, 128, 880, 2)\n",
      "2020-04-29 14:59:39 - experiment.py - INFO - data_relcontent_val   dimensions    : (2500, 340)\n",
      "2020-04-29 14:59:39 - experiment.py - INFO - +------------------------------------------------------------------+\n"
     ]
    }
   ],
   "source": [
    "TEXT_EMBEDDINGS_DIMENSIONS = data_relcontent_train.shape[1]\n",
    "\n",
    "logger.info(\"Partitions overview - train/val\")\n",
    "\n",
    "logger.info(\"data_audio_train      dimensions    : %s\" % str(data_audio_train.shape))\n",
    "logger.info(\"data_relcontent_train dimensions    : %s\" % str(data_relcontent_train.shape))\n",
    "logger.info(\"data_audio_val        dimensions    : %s\" % str(data_audio_val.shape))\n",
    "logger.info(\"data_relcontent_val   dimensions    : %s\" % str(data_relcontent_val.shape))\n",
    "logger.info(\"+------------------------------------------------------------------+\")"
   ]
  },
  {
   "cell_type": "markdown",
   "metadata": {
    "Collapsed": "false"
   },
   "source": [
    "# Model"
   ]
  },
  {
   "cell_type": "markdown",
   "metadata": {
    "Collapsed": "false"
   },
   "source": [
    "## Loss"
   ]
  },
  {
   "cell_type": "code",
   "execution_count": 24,
   "metadata": {
    "Collapsed": "false"
   },
   "outputs": [],
   "source": [
    "expDtype = tf.float32\n",
    "epsilon  = 1e-16"
   ]
  },
  {
   "cell_type": "code",
   "execution_count": 25,
   "metadata": {
    "Collapsed": "false"
   },
   "outputs": [],
   "source": [
    "def pairwise_similarity_cosine(feature):\n",
    "\n",
    "    feature            = K.l2_normalize(feature,axis=1)\n",
    "    pairwise_distances = tf.matmul(feature, feature, adjoint_b = True)\n",
    "    \n",
    "    return pairwise_distances\n",
    "    "
   ]
  },
  {
   "cell_type": "raw",
   "metadata": {
    "Collapsed": "false"
   },
   "source": [
    "def pairwise_distance_euclidean(feature, squared=False):\n",
    "    \"\"\"Computes the pairwise distance matrix with numerical stability.\n",
    "\n",
    "    output[i, j] = || feature[i, :] - feature[j, :] ||_2\n",
    "\n",
    "    Args:\n",
    "      feature: 2-D Tensor of size [number of data, feature dimension].\n",
    "      squared: Boolean, whether or not to square the pairwise distances.\n",
    "\n",
    "    Returns:\n",
    "      pairwise_distances: 2-D Tensor of size [number of data, number of data].\n",
    "    \"\"\"\n",
    "    pairwise_distances_squared = math_ops.add(\n",
    "        math_ops.reduce_sum(math_ops.square(feature), axis=[1], keepdims=True),\n",
    "        math_ops.reduce_sum(\n",
    "            math_ops.square(array_ops.transpose(feature)),\n",
    "            axis=[0],\n",
    "            keepdims=True)) - 2.0 * math_ops.matmul(feature,\n",
    "                                                    array_ops.transpose(feature))\n",
    "\n",
    "    # Deal with numerical inaccuracies. Set small negatives to zero.\n",
    "    pairwise_distances_squared = math_ops.maximum(pairwise_distances_squared, 0.0)\n",
    "    # Get the mask where the zero distances are at.\n",
    "    error_mask = math_ops.less_equal(pairwise_distances_squared, 0.0)\n",
    "\n",
    "    # Optionally take the sqrt.\n",
    "    if squared:\n",
    "        pairwise_distances = pairwise_distances_squared\n",
    "    else:\n",
    "        pairwise_distances = math_ops.sqrt(\n",
    "            pairwise_distances_squared + tf.cast(error_mask, expDtype) * epsilon)\n",
    "\n",
    "    # Undo conditionally adding 1e-16.\n",
    "    pairwise_distances = math_ops.multiply(\n",
    "        pairwise_distances, tf.cast(math_ops.logical_not(error_mask), expDtype))\n",
    "\n",
    "    num_data = array_ops.shape(feature)[0]\n",
    "    # Explicitly set diagonals to zero.\n",
    "    mask_offdiagonals = array_ops.ones_like(pairwise_distances) - array_ops.diag(\n",
    "        array_ops.ones([num_data], dtype=expDtype))\n",
    "    pairwise_distances = math_ops.multiply(pairwise_distances, mask_offdiagonals)\n",
    "    return pairwise_distances\n",
    "    "
   ]
  },
  {
   "cell_type": "code",
   "execution_count": 26,
   "metadata": {
    "Collapsed": "false"
   },
   "outputs": [],
   "source": [
    "#import seaborn as sns\n",
    "#%matplotlib inline\n",
    "\n",
    "#sns.heatmap(mask_positive_bool)"
   ]
  },
  {
   "cell_type": "raw",
   "metadata": {
    "Collapsed": "false"
   },
   "source": [
    "def triplet_loss(text_embdeeings, audio_embeddings):\n",
    "        \n",
    "\n",
    "    #audio_embeddings = embeddings\n",
    "    #audio_embeddings.shape\n",
    "    #text_embdeeings = data_relcontent_train[:100]\n",
    "\n",
    "    #tf.print(audio_embeddings[0])\n",
    "        \n",
    "    # normalize embeddings\n",
    "    audio_embeddings = tf.nn.l2_normalize(audio_embeddings, 1, 1e-10, name='embeddings')\n",
    "    #text_embdeeings  = K.l2_normalize(text_embdeeings  ,axis=1)\n",
    "    \n",
    "    # Get the pairwise distance matrix\n",
    "    pairwise_dists_text  = pairwise_similarity_cosine(text_embdeeings)\n",
    "    pairwise_dists_audio = tfa.losses.metric_learning.pairwise_distance(audio_embeddings, squared=False)\n",
    "    \n",
    "    # create filter masks\n",
    "    \n",
    "    # utils\n",
    "    diag_zeros = tf.linalg.diag_part(pairwise_dists_text) * 0\n",
    "    diag_false = tf.cast(diag_zeros, tf.bool)\n",
    "    max_pairwise_dists_audio  = tf.reduce_max(pairwise_dists_audio, keepdims=True)\n",
    "    \n",
    "    # positive bool mask\n",
    "    mask_positive_bool = tf.greater(pairwise_dists_text, args.uppersim)\n",
    "    mask_positive_bool = tf.linalg.set_diag(mask_positive_bool, diag_false)\n",
    "    \n",
    "    # negative bool mask\n",
    "    #mask_negative_bool = tf.less(pairwise_dists_text, UPPER_SIM)\n",
    "    #mask_negative_bool = tf.linalg.set_diag(mask_negative_bool, diag_false)    \n",
    "    mask_negative_bool = tf.less(pairwise_dists_text, args.lowersim)\n",
    "    mask_negative_bool = tf.linalg.set_diag(mask_negative_bool, diag_false)    \n",
    "\n",
    "    # positive\n",
    "    mask_positive_float       = tf.cast(mask_positive_bool, dtype=expDtype)\n",
    "    mask_negative_float       = tf.cast(mask_negative_bool, dtype=expDtype)\n",
    "    \n",
    "    if args.lossagg == \"max\":\n",
    "        \n",
    "        audio_positive_dist       = pairwise_dists_audio * mask_positive_float\n",
    "        hardest_positive_dist     = tf.reduce_max(audio_positive_dist, axis=1, keepdims=True)\n",
    "    \n",
    "    elif args.lossagg == \"min\":\n",
    "    \n",
    "        audio_positive_dist       = pairwise_dists_audio + max_pairwise_dists_audio * (1.0 - mask_positive_float)\n",
    "        hardest_positive_dist     = tf.reduce_min(audio_positive_dist, axis=1, keepdims=True)\n",
    "\n",
    "    # negative\n",
    "    #audio_negative_dist       = pairwise_dists_audio + max_pairwise_dists_audio * (1.0 - mask_negative_float)\n",
    "    audio_negative_dist       = pairwise_dists_audio + mask_negative_float\n",
    "    hardest_negative_dist     = tf.reduce_max(audio_negative_dist, axis=1, keepdims=True)\n",
    "\n",
    "    # only use triplets where a positive and negative examples were identified\n",
    "    mask_positive_bool_any    = tf.reduce_any(mask_positive_bool, axis=1, keepdims=True)\n",
    "    mask_negative_bool_any    = tf.reduce_any(mask_negative_bool, axis=1, keepdims=True)\n",
    "        \n",
    "    # final mask\n",
    "    final_mask                = tf.math.logical_and(mask_positive_bool_any, mask_negative_bool_any)\n",
    "    #final_mask = mask_positive_bool_any\n",
    "    \n",
    "    #hardest_positive_dist     = tf.boolean_mask(hardest_positive_dist, final_mask)\n",
    "    #hardest_negative_dist     = tf.boolean_mask(hardest_negative_dist, final_mask)\n",
    "\n",
    "    # Combine biggest d(a, p) and smallest d(a, n) into final triplet loss\n",
    "    delta               = hardest_positive_dist - hardest_negative_dist\n",
    "\n",
    "    valid_positives     = tf.reduce_max(mask_positive_float, axis=1, keepdims=True)\n",
    "    num_valid_positives = tf.reduce_sum(valid_positives)\n",
    "    \n",
    "    tf.print(num_valid_positives, \n",
    "             tf.reduce_mean(hardest_positive_dist), \n",
    "             tf.reduce_mean(hardest_negative_dist))\n",
    "    \n",
    "    #x = tf.constant(0, name='x')\n",
    "    \n",
    "    #if tf.equal(hardest_positive_dist.shape[0], x):\n",
    "        \n",
    "    #    triplet_loss = 0\n",
    "\n",
    "        \n",
    "    #else:\n",
    "        \n",
    "    \n",
    "    triplet_loss = tf.reduce_mean(tf.maximum(delta + args.margin, 0.0)) # eigentlich auch hinge\n",
    "    #triplet_loss = triplet_loss / num_valid_positives # mean (excluding non valid pairs)\n",
    "\n",
    "    \n",
    "    #if   args.loss == \"original\"     :    \n",
    "    #elif args.loss == \"logistic_sum\" : triplet_loss = tf.reduce_sum (tf.log1p(tf.reduce_sum(tf.exp(delta), axis=2)))\n",
    "    #elif args.loss == \"logistic_mean\": triplet_loss = tf.reduce_mean(tf.log1p(tf.reduce_sum(tf.exp(delta), axis=2)))\n",
    "    #elif args.loss == \"hinge_sum\"    : triplet_loss = tf.reduce_sum (tf.reduce_sum(tf.nn.relu(args.margin + delta)))\n",
    "    #elif args.loss == \"hinge_mean\"   : triplet_loss = tf.reduce_mean(tf.reduce_sum(tf.nn.relu(args.margin + delta)))\n",
    "    #elif args.loss == \"exp_sum\"      : triplet_loss = tf.reduce_sum (tf.reduce_sum(tf.exp(delta), axis=2))\n",
    "    #elif args.loss == \"exp_mean\"     : triplet_loss = tf.reduce_mean(tf.reduce_sum(tf.exp(delta), axis=2))\n",
    "    #else: raise NotImplementedError\n",
    "\n",
    "    return triplet_loss"
   ]
  },
  {
   "cell_type": "raw",
   "metadata": {
    "Collapsed": "false"
   },
   "source": [
    "plt.imshow(mask_negative_bool)"
   ]
  },
  {
   "cell_type": "raw",
   "metadata": {
    "Collapsed": "false"
   },
   "source": [
    "def _masked_maximum(data, mask, dim=1):\n",
    "    \"\"\"Computes the axis wise maximum over chosen elements.\n",
    "    Args:\n",
    "      data: 2-D float `Tensor` of size [n, m].\n",
    "      mask: 2-D Boolean `Tensor` of size [n, m].\n",
    "      dim: The dimension over which to compute the maximum.\n",
    "    Returns:\n",
    "      masked_maximums: N-D `Tensor`.\n",
    "        The maximized dimension is of size 1 after the operation.\n",
    "    \"\"\"\n",
    "    axis_minimums = tf.math.reduce_min(data, dim, keepdims=True)\n",
    "    masked_maximums = tf.math.reduce_max(\n",
    "        tf.math.multiply(data - axis_minimums, mask), dim,\n",
    "        keepdims=True) + axis_minimums\n",
    "    return masked_maximums\n",
    "\n",
    "\n",
    "def _masked_minimum(data, mask, dim=1):\n",
    "    \"\"\"Computes the axis wise minimum over chosen elements.\n",
    "    Args:\n",
    "      data: 2-D float `Tensor` of size [n, m].\n",
    "      mask: 2-D Boolean `Tensor` of size [n, m].\n",
    "      dim: The dimension over which to compute the minimum.\n",
    "    Returns:\n",
    "      masked_minimums: N-D `Tensor`.\n",
    "        The minimized dimension is of size 1 after the operation.\n",
    "    \"\"\"\n",
    "    axis_maximums = tf.math.reduce_max(data, dim, keepdims=True)\n",
    "    masked_minimums = tf.math.reduce_min(\n",
    "        tf.math.multiply(data - axis_maximums, mask), dim,\n",
    "        keepdims=True) + axis_maximums\n",
    "    return masked_minimums"
   ]
  },
  {
   "cell_type": "raw",
   "metadata": {
    "Collapsed": "false"
   },
   "source": [
    "@tf.function\n",
    "def triplet_semihard_loss(y_true, y_pred, margin=1.0):\n",
    "    \"\"\"Computes the triplet loss with semi-hard negative mining.\n",
    "    Args:\n",
    "      y_true: 1-D integer `Tensor` with shape [batch_size] of\n",
    "        multiclass integer labels.\n",
    "      y_pred: 2-D float `Tensor` of embedding vectors. Embeddings should\n",
    "        be l2 normalized.\n",
    "      margin: Float, margin term in the loss definition.\n",
    "    \"\"\"\n",
    "    \n",
    "\n",
    "    labels, embeddings = y_true, y_pred\n",
    "\n",
    "    # normalize embeddings\n",
    "    embeddings = tf.nn.l2_normalize(embeddings, 1, 1e-10, name='embeddings')\n",
    "    \n",
    "    # Get the pairwise distance matrix\n",
    "    pairwise_dists_text  = pairwise_similarity_cosine(labels)\n",
    "    \n",
    "    diag_zeros = tf.linalg.diag_part(pairwise_dists_text) * 0\n",
    "    diag_false = tf.cast(diag_zeros, tf.bool)\n",
    "    \n",
    "    \n",
    "    # positive bool mask\n",
    "    adjacency = tf.greater(pairwise_dists_text, args.uppersim)\n",
    "    #adjacency = tf.linalg.set_diag(adjacency, diag_false)\n",
    "    \n",
    "    adjacency_not = tf.math.logical_not(adjacency)\n",
    "    #adjacency_not = tf.linalg.set_diag(adjacency_not, diag_false)\n",
    "    \n",
    "    # Reshape label tensor to [batch_size, 1].\n",
    "    lshape = tf.shape(labels)\n",
    "    \n",
    "    # Build pairwise squared distance matrix.\n",
    "    pdist_matrix = tfa.losses.metric_learning.pairwise_distance(embeddings, squared=True)\n",
    "    # Build pairwise binary adjacency matrix.\n",
    "    \n",
    "    batch_size = lshape[0]\n",
    "\n",
    "    # Compute the mask.\n",
    "    pdist_matrix_tile = tf.tile(pdist_matrix, [batch_size, 1])\n",
    "    mask = tf.math.logical_and(\n",
    "        tf.tile(adjacency_not, [batch_size, 1]),\n",
    "        tf.math.greater(pdist_matrix_tile,\n",
    "                        tf.reshape(tf.transpose(pdist_matrix), [-1, 1])))\n",
    "    mask_final = tf.reshape(\n",
    "        tf.math.greater(\n",
    "            tf.math.reduce_sum(\n",
    "                tf.cast(mask, dtype=tf.dtypes.float32), 1, keepdims=True),\n",
    "            0.0), [batch_size, batch_size])\n",
    "    mask_final = tf.transpose(mask_final)\n",
    "\n",
    "    adjacency_not = tf.cast(adjacency_not, dtype=tf.dtypes.float32)\n",
    "    mask = tf.cast(mask, dtype=tf.dtypes.float32)\n",
    "\n",
    "    # negatives_outside: smallest D_an where D_an > D_ap.\n",
    "    negatives_outside = tf.reshape(\n",
    "        _masked_minimum(pdist_matrix_tile, mask), [batch_size, batch_size])\n",
    "    negatives_outside = tf.transpose(negatives_outside)\n",
    "\n",
    "    # negatives_inside: largest D_an.\n",
    "    negatives_inside = tf.tile(\n",
    "        _masked_maximum(pdist_matrix, adjacency_not), [1, batch_size])\n",
    "    semi_hard_negatives = tf.where(mask_final, negatives_outside,\n",
    "                                   negatives_inside)\n",
    "\n",
    "    loss_mat = tf.math.add(margin, pdist_matrix - semi_hard_negatives)\n",
    "\n",
    "    mask_positives = tf.cast(\n",
    "        adjacency, dtype=tf.dtypes.float32) - tf.linalg.diag(\n",
    "            tf.ones([batch_size]))\n",
    "\n",
    "    # In lifted-struct, the authors multiply 0.5 for upper triangular\n",
    "    #   in semihard, they take all positive pairs except the diagonal.\n",
    "    num_positives = tf.math.reduce_sum(mask_positives)\n",
    "\n",
    "    triplet_loss = tf.math.truediv(\n",
    "        tf.math.reduce_sum(\n",
    "            tf.math.maximum(tf.math.multiply(loss_mat, mask_positives), 0.0)),\n",
    "        num_positives)\n",
    "\n",
    "    return triplet_loss"
   ]
  },
  {
   "cell_type": "markdown",
   "metadata": {
    "Collapsed": "false"
   },
   "source": [
    "# Model"
   ]
  },
  {
   "cell_type": "code",
   "execution_count": 27,
   "metadata": {
    "Collapsed": "false"
   },
   "outputs": [],
   "source": [
    "class LoggerCallback(tf.keras.callbacks.Callback):\n",
    "    \n",
    "    def on_train_begin(self, logs=None):\n",
    "        logger.info(\"+------------------------------------------------------------------+\")\n",
    "        logger.info(\"| TRAINING BEGIN                                                   |\")\n",
    "        logger.info(\"+------------------------------------------------------------------+\")\n",
    "\n",
    "    def on_epoch_end(self, epoch, logs=None):\n",
    "        logger.info('Epoch %d: train_loss %f - val_loss %f' % (epoch, logs['loss'], logs['val_loss']))\n",
    "\n",
    "    def on_train_end(self, logs=None):\n",
    "        logger.info(\"+------------------------------------------------------------------+\")\n",
    "        logger.info(\"| TRAINING END                                                     |\")\n",
    "        logger.info(\"+------------------------------------------------------------------+\")"
   ]
  },
  {
   "cell_type": "raw",
   "metadata": {
    "Collapsed": "false"
   },
   "source": [
    "def get_model(embeddings_dimensions):\n",
    "\n",
    "    # --- input layers\n",
    "    input_eval_model = Input((128,216,2))\n",
    "    \n",
    "    #cropped_input    = RandomCropping2D(cropping=(0,216))(input_eval_model)\n",
    "       \n",
    "    cnn  = Conv2D(16, (5,5), padding=\"same\", kernel_initializer=he_uniform(1), activation=\"relu\", strides=(1,2), name=\"conv1\")(input_eval_model)\n",
    "    cnn = MaxPooling2D((2,2), name=\"max-pool1\")(cnn)\n",
    "    \n",
    "    cnn  = Conv2D(32, (3,3), padding=\"same\", kernel_initializer=he_uniform(2), activation=\"relu\", name=\"conv2\")(cnn)\n",
    "    cnn = MaxPooling2D((2,2), name=\"max-pool2\")(cnn)\n",
    "    \n",
    "    cnn  = Conv2D(64, (3,3), padding=\"same\", kernel_initializer=he_uniform(3), activation=\"relu\", name=\"conv3\")(cnn)\n",
    "    cnn = MaxPooling2D((2,2), name=\"max-pool3\")(cnn)\n",
    "    \n",
    "    cnn  = Conv2D(64, (3,3), padding=\"same\", kernel_initializer=he_uniform(4), activation=\"relu\", name=\"conv4\")(cnn)\n",
    "    cnn = MaxPooling2D((2,2), name=\"max-pool4\")(cnn)\n",
    "    \n",
    "    cnn  = Conv2D(128, (3,3), padding=\"same\", kernel_initializer=he_uniform(5), activation=\"relu\", name=\"conv5\")(cnn)\n",
    "    cnn = MaxPooling2D((2,2), name=\"max-pool5\")(cnn)\n",
    "    \n",
    "    cnn  = Conv2D(128, (3,3), padding=\"same\", kernel_initializer=he_uniform(6), activation=\"relu\", name=\"conv61\")(cnn)\n",
    "    cnn  = Conv2D(256, (1,1), padding=\"same\", kernel_initializer=he_uniform(7), activation=\"relu\", name=\"conv62\")(cnn)\n",
    "    \n",
    "    gap = GlobalAveragePooling2D(name=\"gap\")(cnn)\n",
    "    \n",
    "    out = Dense(256, activation=\"relu\", kernel_initializer=he_uniform(7), name=\"fc-feature\")(gap)\n",
    "    \n",
    "\n",
    "    \n",
    "    #mk2019_out       = Dropout(0.5)(out)\n",
    "    \n",
    "    #fc_output        = Dense(embeddings_dimensions, activation=\"elu\", kernel_initializer=he_uniform(8), name=\"fc-output\")(mk2019_out)\n",
    "    \n",
    "    model_eval      = Model(inputs=[input_eval_model], outputs=out)\n",
    "    \n",
    "    return model_eval"
   ]
  },
  {
   "cell_type": "code",
   "execution_count": 28,
   "metadata": {
    "Collapsed": "false"
   },
   "outputs": [],
   "source": [
    "def triplet_loss_soft(text_embdeeings, audio_embeddings):\n",
    "        \n",
    "\n",
    "    #audio_embeddings = embeddings\n",
    "    #audio_embeddings.shape\n",
    "    #text_embdeeings = data_relcontent_train[:100]\n",
    "    \n",
    "    margin = tf.constant(args.margin)\n",
    "\n",
    "    #tf.print(audio_embeddings[0])\n",
    "        \n",
    "    # normalize embeddings\n",
    "    audio_embeddings = tf.nn.l2_normalize(audio_embeddings, 1, 1e-10, name='embeddings')\n",
    "    #text_embdeeings  = K.l2_normalize(text_embdeeings  ,axis=1)\n",
    "    \n",
    "    # Get the pairwise distance matrix\n",
    "    pairwise_dists_text  = pairwise_similarity_cosine(text_embdeeings)\n",
    "    pairwise_dists_audio = tfa.losses.metric_learning.pairwise_distance(audio_embeddings, squared=False)\n",
    "    \n",
    "    # create filter masks\n",
    "    \n",
    "    # utils\n",
    "    diag_zeros = tf.linalg.diag_part(pairwise_dists_text) * 0\n",
    "    diag_false = tf.cast(diag_zeros, tf.bool)\n",
    "    max_pairwise_dists_audio  = tf.reduce_max(pairwise_dists_audio, keepdims=True)\n",
    "    \n",
    "    # positive bool mask\n",
    "    max_pairwise_dists_text      = tf.reduce_max(pairwise_dists_text, axis=1, keepdims=True)\n",
    "    mask_max_pairwise_dists_text = tf.equal(pairwise_dists_text, max_pairwise_dists_text)\n",
    "    \n",
    "    mask_positive_bool      = tf.greater(pairwise_dists_text, args.uppersim)\n",
    "    mask_positive_bool      = tf.math.logical_and(mask_positive_bool, mask_max_pairwise_dists_text)\n",
    "    \n",
    "    mask_positive_bool      = tf.linalg.set_diag(mask_positive_bool, diag_false)\n",
    "    \n",
    "    # negative bool mask\n",
    "    #mask_negative_bool = tf.less(pairwise_dists_text, UPPER_SIM)\n",
    "    #mask_negative_bool = tf.linalg.set_diag(mask_negative_bool, diag_false)    \n",
    "    mask_negative_bool = tf.less(pairwise_dists_text, args.lowersim)\n",
    "    mask_negative_bool = tf.linalg.set_diag(mask_negative_bool, diag_false)    \n",
    "\n",
    "    # positive\n",
    "    mask_positive_float       = tf.cast(mask_positive_bool, dtype=expDtype)\n",
    "    mask_negative_float       = tf.cast(mask_negative_bool, dtype=expDtype)\n",
    "    \n",
    "    if args.lossagg == \"max\":\n",
    "        \n",
    "        audio_positive_dist       = pairwise_dists_audio * mask_positive_float\n",
    "        hardest_positive_dist     = tf.reduce_max(audio_positive_dist, axis=1, keepdims=True)\n",
    "    \n",
    "    elif args.lossagg == \"min\":\n",
    "    \n",
    "        audio_positive_dist       = pairwise_dists_audio + max_pairwise_dists_audio * (1.0 - mask_positive_float)\n",
    "        hardest_positive_dist     = tf.reduce_min(audio_positive_dist, axis=1, keepdims=True)\n",
    "\n",
    "    # negative\n",
    "    mask_greater_as_hard_pos  = tf.greater(pairwise_dists_audio, hardest_positive_dist)\n",
    "    mask_greater_zero         = tf.greater(pairwise_dists_audio + margin, hardest_positive_dist)\n",
    "    mask_negative_bool        = tf.math.logical_and(mask_negative_bool, mask_greater_as_hard_pos)\n",
    "    mask_negative_bool        = tf.math.logical_and(mask_negative_bool, mask_greater_zero)\n",
    "    mask_negative_float       = tf.cast(mask_negative_bool, dtype=expDtype)\n",
    "    audio_negative_dist       = pairwise_dists_audio + max_pairwise_dists_audio * (1.0 - mask_negative_float)\n",
    "    hardest_negative_dist     = tf.reduce_min(audio_negative_dist, axis=1, keepdims=True)\n",
    "\n",
    "    # only use triplets where a positive and negative examples were identified\n",
    "    #mask_positive_bool_any    = tf.reduce_any(mask_positive_bool, axis=1, keepdims=True)\n",
    "    #mask_negative_bool_any    = tf.reduce_any(mask_negative_bool, axis=1, keepdims=True)\n",
    "        \n",
    "    # final mask\n",
    "    #final_mask                = tf.math.logical_and(mask_positive_bool_any, mask_negative_bool_any)\n",
    "    #final_mask_float          = tf.cast(final_mask, dtype=expDtype)\n",
    "    #final_mask = mask_positive_bool_any\n",
    "    \n",
    "    #hardest_positive_dist     = tf.boolean_mask(hardest_positive_dist, final_mask)\n",
    "    #hardest_negative_dist     = tf.boolean_mask(hardest_negative_dist, final_mask)\n",
    "\n",
    "    # Combine biggest d(a, p) and smallest d(a, n) into final triplet loss\n",
    "    delta               = hardest_positive_dist - hardest_negative_dist\n",
    "    \n",
    "\n",
    "    #tf.print(\"delta\", delta)\n",
    "    #valid_positives     = tf.reduce_max(mask_positive_float, axis=1, keepdims=True)\n",
    "    #num_valid_positives = tf.reduce_sum(valid_positives)\n",
    "    \n",
    "    #tf.print(num_valid_positives, \n",
    "    #         tf.reduce_mean(hardest_positive_dist), \n",
    "    #         tf.reduce_mean(hardest_negative_dist))\n",
    "    \n",
    "    #x = tf.constant(0, name='x')\n",
    "    \n",
    "    #if tf.equal(hardest_positive_dist.shape[0], x):\n",
    "        \n",
    "    #    triplet_loss = 0\n",
    "\n",
    "        \n",
    "    #else:\n",
    "        \n",
    "    delta_hinge = tf.maximum(delta + margin, 0.0)\n",
    "    \n",
    "    #delta_hinge               = delta_hinge * final_mask_float\n",
    "    \n",
    "    #tf.print(\"delta_hinge\", delta_hinge)\n",
    "    \n",
    "    triplet_loss = tf.reduce_mean(delta_hinge) # eigentlich auch hinge\n",
    "    #triplet_loss = triplet_loss / num_valid_positives # mean (excluding non valid pairs)\n",
    "    \n",
    "    #tf.print(\"triplet_loss\", triplet_loss)\n",
    "\n",
    "    \n",
    "    #if   args.loss == \"original\"     :    \n",
    "    #elif args.loss == \"logistic_sum\" : triplet_loss = tf.reduce_sum (tf.log1p(tf.reduce_sum(tf.exp(delta), axis=2)))\n",
    "    #elif args.loss == \"logistic_mean\": triplet_loss = tf.reduce_mean(tf.log1p(tf.reduce_sum(tf.exp(delta), axis=2)))\n",
    "    #elif args.loss == \"hinge_sum\"    : triplet_loss = tf.reduce_sum (tf.reduce_sum(tf.nn.relu(args.margin + delta)))\n",
    "    #elif args.loss == \"hinge_mean\"   : triplet_loss = tf.reduce_mean(tf.reduce_sum(tf.nn.relu(args.margin + delta)))\n",
    "    #elif args.loss == \"exp_sum\"      : triplet_loss = tf.reduce_sum (tf.reduce_sum(tf.exp(delta), axis=2))\n",
    "    #elif args.loss == \"exp_mean\"     : triplet_loss = tf.reduce_mean(tf.reduce_sum(tf.exp(delta), axis=2))\n",
    "    #else: raise NotImplementedError\n",
    "\n",
    "    return triplet_loss"
   ]
  },
  {
   "cell_type": "code",
   "execution_count": 29,
   "metadata": {
    "Collapsed": "false"
   },
   "outputs": [],
   "source": [
    "def triplet_loss_hard(text_embdeeings, audio_embeddings):\n",
    "        \n",
    "\n",
    "    #audio_embeddings = embeddings\n",
    "    #audio_embeddings.shape\n",
    "    #text_embdeeings = data_relcontent_train[:100]\n",
    "    \n",
    "    margin = tf.constant(args.margin)\n",
    "\n",
    "    #tf.print(audio_embeddings[0])\n",
    "        \n",
    "    # normalize embeddings\n",
    "    audio_embeddings = tf.nn.l2_normalize(audio_embeddings, 1, 1e-10, name='embeddings')\n",
    "    #text_embdeeings  = K.l2_normalize(text_embdeeings  ,axis=1)\n",
    "    \n",
    "    # Get the pairwise distance matrix\n",
    "    pairwise_dists_text  = pairwise_similarity_cosine(text_embdeeings)\n",
    "    pairwise_dists_audio = tfa.losses.metric_learning.pairwise_distance(audio_embeddings, squared=False)\n",
    "    \n",
    "    # create filter masks\n",
    "    \n",
    "    # utils\n",
    "    diag_zeros = tf.linalg.diag_part(pairwise_dists_text) * 0\n",
    "    diag_false = tf.cast(diag_zeros, tf.bool)\n",
    "    max_pairwise_dists_audio  = tf.reduce_max(pairwise_dists_audio, keepdims=True)\n",
    "    \n",
    "    # positive bool mask\n",
    "    max_pairwise_dists_text      = tf.reduce_max(pairwise_dists_text, axis=1, keepdims=True)\n",
    "    mask_max_pairwise_dists_text = tf.equal(pairwise_dists_text, max_pairwise_dists_text)\n",
    "    \n",
    "    mask_positive_bool      = tf.greater(pairwise_dists_text, args.uppersim)\n",
    "    mask_positive_bool      = tf.math.logical_and(mask_positive_bool, mask_max_pairwise_dists_text)\n",
    "    \n",
    "    mask_positive_bool      = tf.linalg.set_diag(mask_positive_bool, diag_false)\n",
    "    \n",
    "    # negative bool mask\n",
    "    #mask_negative_bool = tf.less(pairwise_dists_text, UPPER_SIM)\n",
    "    #mask_negative_bool = tf.linalg.set_diag(mask_negative_bool, diag_false)    \n",
    "    mask_negative_bool = tf.less(pairwise_dists_text, args.lowersim)\n",
    "    mask_negative_bool = tf.linalg.set_diag(mask_negative_bool, diag_false)    \n",
    "\n",
    "    # positive\n",
    "    mask_positive_float       = tf.cast(mask_positive_bool, dtype=expDtype)\n",
    "    mask_negative_float       = tf.cast(mask_negative_bool, dtype=expDtype)\n",
    "    \n",
    "    if args.lossagg == \"max\":\n",
    "        \n",
    "        audio_positive_dist       = pairwise_dists_audio * mask_positive_float\n",
    "        hardest_positive_dist     = tf.reduce_max(audio_positive_dist, axis=1, keepdims=True)\n",
    "    \n",
    "    elif args.lossagg == \"min\":\n",
    "    \n",
    "        audio_positive_dist       = pairwise_dists_audio + max_pairwise_dists_audio * (1.0 - mask_positive_float)\n",
    "        hardest_positive_dist     = tf.reduce_min(audio_positive_dist, axis=1, keepdims=True)\n",
    "\n",
    "    # negative\n",
    "    #mask_greater_as_hard_pos  = tf.greater(pairwise_dists_audio, hardest_positive_dist)\n",
    "    #mask_greater_zero         = tf.greater(pairwise_dists_audio + margin, hardest_positive_dist)\n",
    "    #mask_negative_bool        = tf.math.logical_and(mask_negative_bool, mask_greater_as_hard_pos)\n",
    "    #mask_negative_bool        = tf.math.logical_and(mask_negative_bool, mask_greater_zero)\n",
    "    #mask_negative_float       = tf.cast(mask_negative_bool, dtype=expDtype)\n",
    "    audio_negative_dist       = pairwise_dists_audio + max_pairwise_dists_audio * (1.0 - mask_negative_float)\n",
    "    hardest_negative_dist     = tf.reduce_min(audio_negative_dist, axis=1, keepdims=True)\n",
    "\n",
    "    # only use triplets where a positive and negative examples were identified\n",
    "    mask_positive_bool_any    = tf.reduce_any(mask_positive_bool, axis=1, keepdims=True)\n",
    "    mask_negative_bool_any    = tf.reduce_any(mask_negative_bool, axis=1, keepdims=True)\n",
    "        \n",
    "    # final mask\n",
    "    final_mask                = tf.math.logical_and(mask_positive_bool_any, mask_negative_bool_any)\n",
    "    final_mask_float          = tf.cast(final_mask, dtype=expDtype)\n",
    "    #final_mask = mask_positive_bool_any\n",
    "    \n",
    "    #hardest_positive_dist     = tf.boolean_mask(hardest_positive_dist, final_mask)\n",
    "    #hardest_negative_dist     = tf.boolean_mask(hardest_negative_dist, final_mask)\n",
    "\n",
    "    # Combine biggest d(a, p) and smallest d(a, n) into final triplet loss\n",
    "    delta               = hardest_positive_dist - hardest_negative_dist\n",
    "    \n",
    "\n",
    "    #tf.print(\"delta\", delta)\n",
    "    valid_positives     = tf.reduce_max(mask_positive_float, axis=1, keepdims=True)\n",
    "    num_valid_positives = tf.reduce_sum(valid_positives)\n",
    "    \n",
    "    tf.print(num_valid_positives, \n",
    "             tf.reduce_mean(hardest_positive_dist), \n",
    "             tf.reduce_mean(hardest_negative_dist))\n",
    "    \n",
    "    #x = tf.constant(0, name='x')\n",
    "    \n",
    "    #if tf.equal(hardest_positive_dist.shape[0], x):\n",
    "        \n",
    "    #    triplet_loss = 0\n",
    "\n",
    "        \n",
    "    #else:\n",
    "        \n",
    "    delta_hinge = tf.maximum(delta + margin, 0.0)\n",
    "    \n",
    "    #delta_hinge               = delta_hinge * final_mask_float\n",
    "    \n",
    "    #tf.print(\"delta_hinge\", delta_hinge)\n",
    "    \n",
    "    triplet_loss = tf.reduce_mean(delta_hinge) # eigentlich auch hinge\n",
    "    #triplet_loss = triplet_loss / num_valid_positives # mean (excluding non valid pairs)\n",
    "    \n",
    "    #tf.print(\"triplet_loss\", triplet_loss)\n",
    "\n",
    "    \n",
    "    #if   args.loss == \"original\"     :    \n",
    "    #elif args.loss == \"logistic_sum\" : triplet_loss = tf.reduce_sum (tf.log1p(tf.reduce_sum(tf.exp(delta), axis=2)))\n",
    "    #elif args.loss == \"logistic_mean\": triplet_loss = tf.reduce_mean(tf.log1p(tf.reduce_sum(tf.exp(delta), axis=2)))\n",
    "    #elif args.loss == \"hinge_sum\"    : triplet_loss = tf.reduce_sum (tf.reduce_sum(tf.nn.relu(args.margin + delta)))\n",
    "    #elif args.loss == \"hinge_mean\"   : triplet_loss = tf.reduce_mean(tf.reduce_sum(tf.nn.relu(args.margin + delta)))\n",
    "    #elif args.loss == \"exp_sum\"      : triplet_loss = tf.reduce_sum (tf.reduce_sum(tf.exp(delta), axis=2))\n",
    "    #elif args.loss == \"exp_mean\"     : triplet_loss = tf.reduce_mean(tf.reduce_sum(tf.exp(delta), axis=2))\n",
    "    #else: raise NotImplementedError\n",
    "\n",
    "    return triplet_loss"
   ]
  },
  {
   "cell_type": "code",
   "execution_count": 41,
   "metadata": {
    "Collapsed": "false"
   },
   "outputs": [],
   "source": [
    "def triplet_loss_soft(text_embdeeings, audio_embeddings):\n",
    "        \n",
    "\n",
    "    #audio_embeddings = embeddings\n",
    "    #audio_embeddings.shape\n",
    "    #text_embdeeings = data_relcontent_train[:100]\n",
    "        \n",
    "    margin = tf.constant(args.margin)\n",
    "\n",
    "    #tf.print(audio_embeddings[0])\n",
    "        \n",
    "    # normalize embeddings\n",
    "    audio_embeddings = tf.nn.l2_normalize(audio_embeddings, 1, 1e-10, name='embeddings')\n",
    "    #text_embdeeings  = K.l2_normalize(text_embdeeings  ,axis=1)\n",
    "\n",
    "    emb_a = audio_embeddings[:100,:]\n",
    "    emb_p = audio_embeddings[100:200,:]\n",
    "    \n",
    "    tf.print(emb_a.shape, emb_p.shape)\n",
    "    \n",
    "    hardest_positive_dist  =  tf.sqrt(tf.reduce_sum(tf.pow(emb_a - emb_p, 2), axis=1))\n",
    "    \n",
    "    tf.print(hardest_positive_dist.shape)\n",
    "    tf.print(hardest_positive_dist)\n",
    "    \n",
    "    # Get the pairwise distance matrix\n",
    "    #pairwise_dists_text  = pairwise_similarity_cosine(text_embdeeings)\n",
    "    pairwise_dists_audio = tfa.losses.metric_learning.pairwise_distance(audio_embeddings, squared=False)\n",
    "    \n",
    "    # create filter masks\n",
    "    \n",
    "    # utils\n",
    "    diag_zeros = tf.linalg.diag_part(pairwise_dists_audio) * 0\n",
    "    diag_false = tf.cast(diag_zeros, tf.bool)\n",
    "    max_pairwise_dists_audio  = tf.reduce_max(pairwise_dists_audio, keepdims=True)\n",
    "    \n",
    "    # positive bool mask\n",
    "    #max_pairwise_dists_text      = tf.reduce_max(pairwise_dists_text, axis=1, keepdims=True)\n",
    "    #mask_max_pairwise_dists_text = tf.equal(pairwise_dists_text, max_pairwise_dists_text)\n",
    "    \n",
    "    #mask_positive_bool      = tf.greater(pairwise_dists_text, args.uppersim)\n",
    "    #mask_positive_bool      = tf.math.logical_and(mask_positive_bool, mask_max_pairwise_dists_text)\n",
    "    \n",
    "    #mask_positive_bool      = tf.linalg.set_diag(mask_positive_bool, diag_false)\n",
    "    \n",
    "    # negative bool mask\n",
    "    #mask_negative_bool = tf.less(pairwise_dists_text, UPPER_SIM)\n",
    "    #mask_negative_bool = tf.linalg.set_diag(mask_negative_bool, diag_false)    \n",
    "    #mask_negative_bool = tf.less(pairwise_dists_text, args.lowersim)\n",
    "    #mask_negative_bool = tf.linalg.set_diag(mask_negative_bool, diag_false)    \n",
    "\n",
    "    # positive\n",
    "    #mask_positive_float       = tf.cast(mask_positive_bool, dtype=expDtype)\n",
    "    #mask_negative_float       = tf.cast(mask_negative_bool, dtype=expDtype)\n",
    "    \n",
    "    #if args.lossagg == \"max\":\n",
    "    #    \n",
    "    #    audio_positive_dist       = pairwise_dists_audio * mask_positive_float\n",
    "    #    hardest_positive_dist     = tf.reduce_max(audio_positive_dist, axis=1, keepdims=True)\n",
    "    \n",
    "    #elif args.lossagg == \"min\":\n",
    "    \n",
    "    #    audio_positive_dist       = pairwise_dists_audio + max_pairwise_dists_audio * (1.0 - mask_positive_float)\n",
    "    #    hardest_positive_dist     = tf.reduce_min(audio_positive_dist, axis=1, keepdims=True)\n",
    "\n",
    "    # negative\n",
    "    mask_greater_as_hard_pos  = tf.greater(pairwise_dists_audio[:100], hardest_positive_dist)\n",
    "    mask_greater_zero         = tf.greater(pairwise_dists_audio[:100] + margin, hardest_positive_dist)\n",
    "    mask_negative_bool        = tf.math.logical_and(mask_greater_zero, mask_greater_as_hard_pos)\n",
    "    #mask_negative_bool        = tf.math.logical_and(mask_negative_bool, mask_greater_zero)\n",
    "    mask_negative_float       = tf.cast(mask_negative_bool, dtype=expDtype)\n",
    "    audio_negative_dist       = pairwise_dists_audio + max_pairwise_dists_audio * (1.0 - mask_negative_float)\n",
    "    hardest_negative_dist     = tf.reduce_min(audio_negative_dist, axis=1, keepdims=True)\n",
    "\n",
    "    # only use triplets where a positive and negative examples were identified\n",
    "    #mask_positive_bool_any    = tf.reduce_any(mask_positive_bool, axis=1, keepdims=True)\n",
    "    #mask_negative_bool_any    = tf.reduce_any(mask_negative_bool, axis=1, keepdims=True)\n",
    "        \n",
    "    # final mask\n",
    "    #final_mask                = tf.math.logical_and(mask_positive_bool_any, mask_negative_bool_any)\n",
    "    #final_mask_float          = tf.cast(final_mask, dtype=expDtype)\n",
    "    #final_mask = mask_positive_bool_any\n",
    "    \n",
    "    #hardest_positive_dist     = tf.boolean_mask(hardest_positive_dist, final_mask)\n",
    "    #hardest_negative_dist     = tf.boolean_mask(hardest_negative_dist, final_mask)\n",
    "\n",
    "    # Combine biggest d(a, p) and smallest d(a, n) into final triplet loss\n",
    "    delta               = hardest_positive_dist - hardest_negative_dist\n",
    "    \n",
    "\n",
    "    #tf.print(\"delta\", delta)\n",
    "    #valid_positives     = tf.reduce_max(mask_positive_float, axis=1, keepdims=True)\n",
    "    #num_valid_positives = tf.reduce_sum(valid_positives)\n",
    "    \n",
    "    #tf.print(num_valid_positives, \n",
    "    #         tf.reduce_mean(hardest_positive_dist), \n",
    "    #         tf.reduce_mean(hardest_negative_dist))\n",
    "    \n",
    "    #x = tf.constant(0, name='x')\n",
    "    \n",
    "    #if tf.equal(hardest_positive_dist.shape[0], x):\n",
    "        \n",
    "    #    triplet_loss = 0\n",
    "\n",
    "        \n",
    "    #else:\n",
    "        \n",
    "    delta_hinge = tf.maximum(delta + margin, 0.0)\n",
    "    \n",
    "    #delta_hinge               = delta_hinge * final_mask_float\n",
    "    \n",
    "    #tf.print(\"delta_hinge\", delta_hinge)\n",
    "    \n",
    "    triplet_loss = tf.reduce_mean(delta_hinge) # eigentlich auch hinge\n",
    "    #triplet_loss = triplet_loss / num_valid_positives # mean (excluding non valid pairs)\n",
    "    \n",
    "    #tf.print(\"triplet_loss\", triplet_loss)\n",
    "\n",
    "    \n",
    "    #if   args.loss == \"original\"     :    \n",
    "    #elif args.loss == \"logistic_sum\" : triplet_loss = tf.reduce_sum (tf.log1p(tf.reduce_sum(tf.exp(delta), axis=2)))\n",
    "    #elif args.loss == \"logistic_mean\": triplet_loss = tf.reduce_mean(tf.log1p(tf.reduce_sum(tf.exp(delta), axis=2)))\n",
    "    #elif args.loss == \"hinge_sum\"    : triplet_loss = tf.reduce_sum (tf.reduce_sum(tf.nn.relu(args.margin + delta)))\n",
    "    #elif args.loss == \"hinge_mean\"   : triplet_loss = tf.reduce_mean(tf.reduce_sum(tf.nn.relu(args.margin + delta)))\n",
    "    #elif args.loss == \"exp_sum\"      : triplet_loss = tf.reduce_sum (tf.reduce_sum(tf.exp(delta), axis=2))\n",
    "    #elif args.loss == \"exp_mean\"     : triplet_loss = tf.reduce_mean(tf.reduce_sum(tf.exp(delta), axis=2))\n",
    "    #else: raise NotImplementedError\n",
    "\n",
    "    return triplet_loss"
   ]
  },
  {
   "cell_type": "code",
   "execution_count": 42,
   "metadata": {
    "Collapsed": "false"
   },
   "outputs": [
    {
     "name": "stdout",
     "output_type": "stream",
     "text": [
      "2020-04-29 15:14:23 - experiment.py - INFO - * Prepare Evaluation\n",
      "2020-04-29 15:14:23 - experiment.py - INFO - * Model created\n",
      "2020-04-29 15:14:23 - experiment.py - INFO - * Optimizer: <tensorflow.python.keras.optimizer_v2.adam.Adam object at 0x7f20f43d7898>\n",
      "2020-04-29 15:14:23 - experiment.py - INFO - * Model compiled\n",
      "2020-04-29 15:14:23 - experiment.py - INFO - * Callbacks created\n"
     ]
    }
   ],
   "source": [
    "# ===============================================================================\n",
    "# # Train Model\n",
    "# ===============================================================================\n",
    "\n",
    "logger.info(\"* Prepare Evaluation\")\n",
    "\n",
    "# ===============================================================================\n",
    "# ### Build and Train Model\n",
    "# ===============================================================================\n",
    "\n",
    "# define the model\n",
    "model = model_def.get_model(args.finaldim)\n",
    "\n",
    "logger.info(\"* Model created\")\n",
    "\n",
    "# define the optimizer\n",
    "opt = Adam(lr=args.learnrate)\n",
    "#opt = SGD(lr=0.0001)\n",
    "#opt = tfa.optimizers.RectifiedAdam(lr=1e-4)\n",
    "\n",
    "logger.info(\"* Optimizer: %s\" % (str(opt)))\n",
    "\n",
    "\n",
    "#from keras_radam import RAdam\n",
    "\n",
    "#opt = RAdam(total_steps=10000, warmup_proportion=0.1, learning_rate=1e-4, min_lr=1e-5)\n",
    "\n",
    "# compile the model\n",
    "model.compile(loss      = triplet_loss_soft,\n",
    "              optimizer = opt)\n",
    "logger.info(\"* Model compiled\")\n",
    "                    \n",
    "# ===============================================================================\n",
    "# Callbacks\n",
    "# ===============================================================================\n",
    "\n",
    "cb_modelcheckpoint = ModelCheckpoint(args.modeldir + \"/model.h5\", \n",
    "                                    monitor           = 'val_loss', \n",
    "                                    verbose           = 1, \n",
    "                                    save_best_only    = True, \n",
    "                                    save_weights_only = True, \n",
    "                                    mode              = 'auto')\n",
    "    \n",
    "cb_tensorboard =  TensorBoard(log_dir=args.modeldir, \n",
    "                                histogram_freq=0, \n",
    "                                write_graph=False, \n",
    "                                write_grads=False, \n",
    "                                write_images=False, \n",
    "                                embeddings_freq=0, \n",
    "                                embeddings_layer_names=None, \n",
    "                                embeddings_metadata=None, \n",
    "                                embeddings_data=None, \n",
    "                                update_freq='epoch')\n",
    "\n",
    "cb_csv_logger = CSVLogger(args.modeldir + \"/model_training_log.csv\", separator=';', append=False)\n",
    "\n",
    "cb_logger = LoggerCallback()\n",
    "    \n",
    "callbacks = [cb_tensorboard, \n",
    "             cb_modelcheckpoint, \n",
    "             cb_csv_logger, \n",
    "             cb_logger]\n",
    "logger.info(\"* Callbacks created\")"
   ]
  },
  {
   "cell_type": "code",
   "execution_count": 33,
   "metadata": {
    "Collapsed": "false"
   },
   "outputs": [
    {
     "data": {
      "text/plain": [
       "((300, 128, 880, 2), (300, 340))"
      ]
     },
     "execution_count": 33,
     "metadata": {},
     "output_type": "execute_result"
    }
   ],
   "source": [
    "from tensorflow.keras.utils import Sequence\n",
    "\n",
    "\n",
    "class DataGenerator(Sequence):\n",
    "    \"\"\"Generates data for Keras\n",
    "    Sequence based data generator. Suitable for building data generator for training and prediction.\n",
    "    \"\"\"\n",
    "    def __init__(self, audio, relcontent, batch_size=32, shuffle=True):\n",
    "\n",
    "        self.audio      = audio\n",
    "        self.relcontent = relcontent\n",
    "        self.batch_size = batch_size\n",
    "        self.shuffle    = shuffle\n",
    "        self.sample_size = int(self.batch_size / 3)\n",
    "        \n",
    "        self.indexes    = np.arange(self.audio.shape[0])\n",
    "        \n",
    "        self.on_epoch_end()\n",
    "\n",
    "    def __len__(self):\n",
    "        \"\"\"Denotes the number of batches per epoch\n",
    "        :return: number of batches per epoch\n",
    "        \"\"\"\n",
    "        return int(np.floor(self.indexes.shape[0] / (self.sample_size)))\n",
    "\n",
    "    def __getitem__(self, index):\n",
    "        \"\"\"Generate one batch of data\n",
    "        :param index: index of the batch\n",
    "        :return: X and y when fitting. X only when predicting\n",
    "        \"\"\"\n",
    "        # Generate indexes of the batch\n",
    "        sample_idx_orig = self.indexes[index * self.sample_size:(index + 1) * self.sample_size]\n",
    "\n",
    "        triplet_indexes = self._get_indexes(sample_idx_orig)\n",
    "        \n",
    "        return self.audio[triplet_indexes], self.relcontent[triplet_indexes]\n",
    "            \n",
    "\n",
    "    def on_epoch_end(self):\n",
    "        \"\"\"Updates indexes after each epoch\n",
    "        \"\"\"\n",
    "        if self.shuffle == True:\n",
    "            np.random.shuffle(self.indexes)\n",
    "\n",
    "    def _get_indexes(self, sample_idx_orig):\n",
    "        \n",
    "        sample_size_large = self.sample_size * 10\n",
    "        \n",
    "        #print(sample_size_large)\n",
    "        \n",
    "        sample_idx = np.random.randint(0,self.relcontent.shape[0], sample_size_large)\n",
    "        sample_idx = np.setdiff1d(sample_idx, sample_idx_orig)[:sample_size_large - self.sample_size]\n",
    "        sample_idx = np.concatenate([sample_idx_orig, sample_idx], axis=0)\n",
    "\n",
    "        sample     = self.relcontent[sample_idx]\n",
    "\n",
    "        sample_cossim    = 1 - cdist(sample, sample, metric='cosine')\n",
    "        np.fill_diagonal(sample_cossim, 0)\n",
    "\n",
    "        max_sample_idx_a = np.arange(sample_idx.shape[0])\n",
    "\n",
    "        max_sample       = sample_cossim.max(axis=1)\n",
    "        max_sample_idx_p = sample_cossim.argmax(axis=1)\n",
    "\n",
    "        anchor_positive_pairs = np.asarray([max_sample_idx_a, max_sample_idx_p]).T\n",
    "        #print(anchor_positive_pairs.shape, max_sample.shape)\n",
    "        anchor_positive_pairs = anchor_positive_pairs[max_sample >= args.uppersim]\n",
    "\n",
    "        np.sort(anchor_positive_pairs, axis=1)\n",
    "\n",
    "        anchor_positive_pairs = np.unique(anchor_positive_pairs, axis=0)\n",
    "\n",
    "        for j in [0,1]:\n",
    "\n",
    "            valid_indexes = []\n",
    "            last_val = -1\n",
    "\n",
    "            for i in np.argsort(anchor_positive_pairs[:,j]):\n",
    "\n",
    "                #print(last_val, anchor_positive_pairs[i,j])\n",
    "                if anchor_positive_pairs[i,j] != last_val:\n",
    "                    valid_indexes.append(i)\n",
    "                    last_val = anchor_positive_pairs[i,j]\n",
    "\n",
    "            anchor_positive_pairs = anchor_positive_pairs[valid_indexes]\n",
    "\n",
    "        anchor_positive_pairs = anchor_positive_pairs[:self.sample_size]\n",
    "\n",
    "        negative_samples = sample_cossim[anchor_positive_pairs[:,0]] * (sample_cossim[anchor_positive_pairs[:,0]] < args.lowersim)\n",
    "\n",
    "        unique_indexes = anchor_positive_pairs.flatten().tolist()\n",
    "\n",
    "        max_sample_idx_n = []\n",
    "\n",
    "        for i in range(negative_samples.shape[0]):\n",
    "\n",
    "            sorted_indexes = np.argsort(negative_samples[i,:])[::-1]\n",
    "\n",
    "            for idx in sorted_indexes:\n",
    "                if idx not in unique_indexes:\n",
    "                    max_sample_idx_n.append(idx)\n",
    "                    unique_indexes.append(idx)\n",
    "                    break\n",
    "\n",
    "        triplets = np.concatenate([anchor_positive_pairs, np.expand_dims(max_sample_idx_n, axis=1)], axis=1)\n",
    "\n",
    "        batch_idx = sample_idx[triplets.flatten()]\n",
    "        \n",
    "        return batch_idx\n",
    "\n",
    "\n",
    "train_datagenerator = DataGenerator(data_audio_train, data_relcontent_train, batch_size=300)\n",
    "x,y = train_datagenerator.__getitem__(1)\n",
    "x.shape, y.shape"
   ]
  },
  {
   "cell_type": "code",
   "execution_count": 48,
   "metadata": {
    "Collapsed": "false"
   },
   "outputs": [
    {
     "data": {
      "text/plain": [
       "100"
      ]
     },
     "execution_count": 48,
     "metadata": {},
     "output_type": "execute_result"
    }
   ],
   "source": [
    "train_datagenerator.__len__()"
   ]
  },
  {
   "cell_type": "raw",
   "metadata": {
    "Collapsed": "false"
   },
   "source": [
    "sample_idx = np.random.randint(0,data_relcontent_train.shape[0], 1000)\n",
    "sample_idx = np.setdiff1d(sample_idx, sample_idx_orig)[:900]\n",
    "sample_idx = np.concatenate([sample_idx_orig, sample_idx], axis=0)\n",
    "\n",
    "#sample_anchors = data_relcontent_train[sample_idx_orig]\n",
    "sample     = data_relcontent_train[sample_idx]\n",
    "\n",
    "sample_cossim    = 1 - cdist(sample, sample, metric='cosine')\n",
    "np.fill_diagonal(sample_cossim, 0)\n",
    "\n",
    "max_sample_idx_a = np.arange(1000)\n",
    "\n",
    "max_sample       = sample_cossim.max(axis=1)\n",
    "max_sample_idx_p = sample_cossim.argmax(axis=1)\n",
    "\n",
    "anchor_positive_pairs = np.asarray([max_sample_idx_a, max_sample_idx_p]).T\n",
    "anchor_positive_pairs = anchor_positive_pairs[max_sample >= 0.9]\n",
    "\n",
    "np.sort(anchor_positive_pairs, axis=1)\n",
    "\n",
    "anchor_positive_pairs = np.unique(anchor_positive_pairs, axis=0)\n",
    "\n",
    "for j in [0,1]:\n",
    "    \n",
    "    valid_indexes = []\n",
    "    last_val = -1\n",
    "    \n",
    "    for i in np.argsort(anchor_positive_pairs[:,j]):\n",
    "\n",
    "        #print(last_val, anchor_positive_pairs[i,j])\n",
    "        if anchor_positive_pairs[i,j] != last_val:\n",
    "            valid_indexes.append(i)\n",
    "            last_val = anchor_positive_pairs[i,j]\n",
    "            \n",
    "    anchor_positive_pairs = anchor_positive_pairs[valid_indexes]\n",
    "\n",
    "anchor_positive_pairs = anchor_positive_pairs[:100]\n",
    "\n",
    "negative_samples = sample_cossim[anchor_positive_pairs[:,0]] * (sample_cossim[anchor_positive_pairs[:,0]] < 0.9)\n",
    "\n",
    "unique_indexes = anchor_positive_pairs.flatten().tolist()\n",
    "\n",
    "max_sample_idx_n = []\n",
    "\n",
    "for i in range(negative_samples.shape[0]):\n",
    "    \n",
    "    sorted_indexes = np.argsort(negative_samples[i,:])[::-1]\n",
    "    \n",
    "    for idx in sorted_indexes:\n",
    "        if idx not in unique_indexes:\n",
    "            max_sample_idx_n.append(idx)\n",
    "            unique_indexes.append(idx)\n",
    "            break\n",
    "            \n",
    "triplets = np.concatenate([anchor_positive_pairs, np.expand_dims(max_sample_idx_n, axis=1)], axis=1)\n",
    "\n",
    "batch_idx = sample_idx[triplets.flatten()]"
   ]
  },
  {
   "cell_type": "code",
   "execution_count": 36,
   "metadata": {
    "Collapsed": "false"
   },
   "outputs": [],
   "source": [
    "model.compile(loss      = triplet_loss_soft,\n",
    "              optimizer = opt)\n",
    "\n",
    "args.epochs = 100"
   ]
  },
  {
   "cell_type": "raw",
   "metadata": {
    "Collapsed": "false"
   },
   "source": [
    "model.compile(loss      = triplet_loss_hard,\n",
    "              optimizer = opt)"
   ]
  },
  {
   "cell_type": "code",
   "execution_count": null,
   "metadata": {
    "Collapsed": "false"
   },
   "outputs": [],
   "source": [
    "logger.info(\"* Model Training: starting\")\n",
    "# first test - only to debug code\n",
    "history = model.fit(data_audio_train,#[:,:,:216,:],\n",
    "                    data_relcontent_train, \n",
    "                    batch_size       = args.batchsize, \n",
    "                    verbose          = 1, \n",
    "                    epochs           = args.epochs,\n",
    "                    validation_data  = (data_audio_val, data_relcontent_val),\n",
    "                    #callbacks        = callbacks,\n",
    "                    shuffle          = True);"
   ]
  },
  {
   "cell_type": "code",
   "execution_count": 43,
   "metadata": {
    "Collapsed": "false"
   },
   "outputs": [
    {
     "name": "stdout",
     "output_type": "stream",
     "text": [
      "2020-04-29 15:14:28 - experiment.py - INFO - * Model Training: starting\n",
      "WARNING:tensorflow:sample_weight modes were coerced from\n",
      "  ...\n",
      "    to  \n",
      "  ['...']\n",
      "Train for 100 steps, validate on 2500 samples\n",
      "Epoch 1/100\n",
      "TensorShape([None, 128]) TensorShape([None, 128])\n",
      "TensorShape([None])\n",
      "[0.967394292 1.15343618 0.79336822 ... 0.945726633 0.878512 0.997563839]\n",
      "  1/100 [..............................] - ETA: 2:20"
     ]
    },
    {
     "ename": "InvalidArgumentError",
     "evalue": " Incompatible shapes: [100,300] vs. [100]\n\t [[node loss/fc-output_loss/Greater (defined at <ipython-input-41-61c80d406068>:67) ]] [Op:__inference_distributed_function_6863]\n\nErrors may have originated from an input operation.\nInput Source operations connected to node loss/fc-output_loss/Greater:\n loss/fc-output_loss/Sqrt (defined at <ipython-input-41-61c80d406068>:21)\n\nFunction call stack:\ndistributed_function\n",
     "output_type": "error",
     "traceback": [
      "\u001b[0;31m---------------------------------------------------------------------------\u001b[0m",
      "\u001b[0;31mInvalidArgumentError\u001b[0m                      Traceback (most recent call last)",
      "\u001b[0;32m<ipython-input-43-29ad53e91589>\u001b[0m in \u001b[0;36m<module>\u001b[0;34m\u001b[0m\n\u001b[1;32m      7\u001b[0m                     \u001b[0mvalidation_data\u001b[0m  \u001b[0;34m=\u001b[0m \u001b[0;34m(\u001b[0m\u001b[0mdata_audio_val\u001b[0m\u001b[0;34m,\u001b[0m \u001b[0mdata_relcontent_val\u001b[0m\u001b[0;34m)\u001b[0m\u001b[0;34m,\u001b[0m\u001b[0;34m\u001b[0m\u001b[0;34m\u001b[0m\u001b[0m\n\u001b[1;32m      8\u001b[0m                     \u001b[0;31m#callbacks        = callbacks,\u001b[0m\u001b[0;34m\u001b[0m\u001b[0;34m\u001b[0m\u001b[0;34m\u001b[0m\u001b[0m\n\u001b[0;32m----> 9\u001b[0;31m                     shuffle          = True);\n\u001b[0m",
      "\u001b[0;32m~/.conda/envs/base36/lib/python3.6/site-packages/tensorflow_core/python/keras/engine/training.py\u001b[0m in \u001b[0;36mfit\u001b[0;34m(self, x, y, batch_size, epochs, verbose, callbacks, validation_split, validation_data, shuffle, class_weight, sample_weight, initial_epoch, steps_per_epoch, validation_steps, validation_freq, max_queue_size, workers, use_multiprocessing, **kwargs)\u001b[0m\n\u001b[1;32m    817\u001b[0m         \u001b[0mmax_queue_size\u001b[0m\u001b[0;34m=\u001b[0m\u001b[0mmax_queue_size\u001b[0m\u001b[0;34m,\u001b[0m\u001b[0;34m\u001b[0m\u001b[0;34m\u001b[0m\u001b[0m\n\u001b[1;32m    818\u001b[0m         \u001b[0mworkers\u001b[0m\u001b[0;34m=\u001b[0m\u001b[0mworkers\u001b[0m\u001b[0;34m,\u001b[0m\u001b[0;34m\u001b[0m\u001b[0;34m\u001b[0m\u001b[0m\n\u001b[0;32m--> 819\u001b[0;31m         use_multiprocessing=use_multiprocessing)\n\u001b[0m\u001b[1;32m    820\u001b[0m \u001b[0;34m\u001b[0m\u001b[0m\n\u001b[1;32m    821\u001b[0m   def evaluate(self,\n",
      "\u001b[0;32m~/.conda/envs/base36/lib/python3.6/site-packages/tensorflow_core/python/keras/engine/training_v2.py\u001b[0m in \u001b[0;36mfit\u001b[0;34m(self, model, x, y, batch_size, epochs, verbose, callbacks, validation_split, validation_data, shuffle, class_weight, sample_weight, initial_epoch, steps_per_epoch, validation_steps, validation_freq, max_queue_size, workers, use_multiprocessing, **kwargs)\u001b[0m\n\u001b[1;32m    340\u001b[0m                 \u001b[0mmode\u001b[0m\u001b[0;34m=\u001b[0m\u001b[0mModeKeys\u001b[0m\u001b[0;34m.\u001b[0m\u001b[0mTRAIN\u001b[0m\u001b[0;34m,\u001b[0m\u001b[0;34m\u001b[0m\u001b[0;34m\u001b[0m\u001b[0m\n\u001b[1;32m    341\u001b[0m                 \u001b[0mtraining_context\u001b[0m\u001b[0;34m=\u001b[0m\u001b[0mtraining_context\u001b[0m\u001b[0;34m,\u001b[0m\u001b[0;34m\u001b[0m\u001b[0;34m\u001b[0m\u001b[0m\n\u001b[0;32m--> 342\u001b[0;31m                 total_epochs=epochs)\n\u001b[0m\u001b[1;32m    343\u001b[0m             \u001b[0mcbks\u001b[0m\u001b[0;34m.\u001b[0m\u001b[0mmake_logs\u001b[0m\u001b[0;34m(\u001b[0m\u001b[0mmodel\u001b[0m\u001b[0;34m,\u001b[0m \u001b[0mepoch_logs\u001b[0m\u001b[0;34m,\u001b[0m \u001b[0mtraining_result\u001b[0m\u001b[0;34m,\u001b[0m \u001b[0mModeKeys\u001b[0m\u001b[0;34m.\u001b[0m\u001b[0mTRAIN\u001b[0m\u001b[0;34m)\u001b[0m\u001b[0;34m\u001b[0m\u001b[0;34m\u001b[0m\u001b[0m\n\u001b[1;32m    344\u001b[0m \u001b[0;34m\u001b[0m\u001b[0m\n",
      "\u001b[0;32m~/.conda/envs/base36/lib/python3.6/site-packages/tensorflow_core/python/keras/engine/training_v2.py\u001b[0m in \u001b[0;36mrun_one_epoch\u001b[0;34m(model, iterator, execution_function, dataset_size, batch_size, strategy, steps_per_epoch, num_samples, mode, training_context, total_epochs)\u001b[0m\n\u001b[1;32m    126\u001b[0m         step=step, mode=mode, size=current_batch_size) as batch_logs:\n\u001b[1;32m    127\u001b[0m       \u001b[0;32mtry\u001b[0m\u001b[0;34m:\u001b[0m\u001b[0;34m\u001b[0m\u001b[0;34m\u001b[0m\u001b[0m\n\u001b[0;32m--> 128\u001b[0;31m         \u001b[0mbatch_outs\u001b[0m \u001b[0;34m=\u001b[0m \u001b[0mexecution_function\u001b[0m\u001b[0;34m(\u001b[0m\u001b[0miterator\u001b[0m\u001b[0;34m)\u001b[0m\u001b[0;34m\u001b[0m\u001b[0;34m\u001b[0m\u001b[0m\n\u001b[0m\u001b[1;32m    129\u001b[0m       \u001b[0;32mexcept\u001b[0m \u001b[0;34m(\u001b[0m\u001b[0mStopIteration\u001b[0m\u001b[0;34m,\u001b[0m \u001b[0merrors\u001b[0m\u001b[0;34m.\u001b[0m\u001b[0mOutOfRangeError\u001b[0m\u001b[0;34m)\u001b[0m\u001b[0;34m:\u001b[0m\u001b[0;34m\u001b[0m\u001b[0;34m\u001b[0m\u001b[0m\n\u001b[1;32m    130\u001b[0m         \u001b[0;31m# TODO(kaftan): File bug about tf function and errors.OutOfRangeError?\u001b[0m\u001b[0;34m\u001b[0m\u001b[0;34m\u001b[0m\u001b[0;34m\u001b[0m\u001b[0m\n",
      "\u001b[0;32m~/.conda/envs/base36/lib/python3.6/site-packages/tensorflow_core/python/keras/engine/training_v2_utils.py\u001b[0m in \u001b[0;36mexecution_function\u001b[0;34m(input_fn)\u001b[0m\n\u001b[1;32m     96\u001b[0m     \u001b[0;31m# `numpy` translates Tensors to values in Eager mode.\u001b[0m\u001b[0;34m\u001b[0m\u001b[0;34m\u001b[0m\u001b[0;34m\u001b[0m\u001b[0m\n\u001b[1;32m     97\u001b[0m     return nest.map_structure(_non_none_constant_value,\n\u001b[0;32m---> 98\u001b[0;31m                               distributed_function(input_fn))\n\u001b[0m\u001b[1;32m     99\u001b[0m \u001b[0;34m\u001b[0m\u001b[0m\n\u001b[1;32m    100\u001b[0m   \u001b[0;32mreturn\u001b[0m \u001b[0mexecution_function\u001b[0m\u001b[0;34m\u001b[0m\u001b[0;34m\u001b[0m\u001b[0m\n",
      "\u001b[0;32m~/.conda/envs/base36/lib/python3.6/site-packages/tensorflow_core/python/eager/def_function.py\u001b[0m in \u001b[0;36m__call__\u001b[0;34m(self, *args, **kwds)\u001b[0m\n\u001b[1;32m    566\u001b[0m         \u001b[0mxla_context\u001b[0m\u001b[0;34m.\u001b[0m\u001b[0mExit\u001b[0m\u001b[0;34m(\u001b[0m\u001b[0;34m)\u001b[0m\u001b[0;34m\u001b[0m\u001b[0;34m\u001b[0m\u001b[0m\n\u001b[1;32m    567\u001b[0m     \u001b[0;32melse\u001b[0m\u001b[0;34m:\u001b[0m\u001b[0;34m\u001b[0m\u001b[0;34m\u001b[0m\u001b[0m\n\u001b[0;32m--> 568\u001b[0;31m       \u001b[0mresult\u001b[0m \u001b[0;34m=\u001b[0m \u001b[0mself\u001b[0m\u001b[0;34m.\u001b[0m\u001b[0m_call\u001b[0m\u001b[0;34m(\u001b[0m\u001b[0;34m*\u001b[0m\u001b[0margs\u001b[0m\u001b[0;34m,\u001b[0m \u001b[0;34m**\u001b[0m\u001b[0mkwds\u001b[0m\u001b[0;34m)\u001b[0m\u001b[0;34m\u001b[0m\u001b[0;34m\u001b[0m\u001b[0m\n\u001b[0m\u001b[1;32m    569\u001b[0m \u001b[0;34m\u001b[0m\u001b[0m\n\u001b[1;32m    570\u001b[0m     \u001b[0;32mif\u001b[0m \u001b[0mtracing_count\u001b[0m \u001b[0;34m==\u001b[0m \u001b[0mself\u001b[0m\u001b[0;34m.\u001b[0m\u001b[0m_get_tracing_count\u001b[0m\u001b[0;34m(\u001b[0m\u001b[0;34m)\u001b[0m\u001b[0;34m:\u001b[0m\u001b[0;34m\u001b[0m\u001b[0;34m\u001b[0m\u001b[0m\n",
      "\u001b[0;32m~/.conda/envs/base36/lib/python3.6/site-packages/tensorflow_core/python/eager/def_function.py\u001b[0m in \u001b[0;36m_call\u001b[0;34m(self, *args, **kwds)\u001b[0m\n\u001b[1;32m    630\u001b[0m         \u001b[0;31m# Lifting succeeded, so variables are initialized and we can run the\u001b[0m\u001b[0;34m\u001b[0m\u001b[0;34m\u001b[0m\u001b[0;34m\u001b[0m\u001b[0m\n\u001b[1;32m    631\u001b[0m         \u001b[0;31m# stateless function.\u001b[0m\u001b[0;34m\u001b[0m\u001b[0;34m\u001b[0m\u001b[0;34m\u001b[0m\u001b[0m\n\u001b[0;32m--> 632\u001b[0;31m         \u001b[0;32mreturn\u001b[0m \u001b[0mself\u001b[0m\u001b[0;34m.\u001b[0m\u001b[0m_stateless_fn\u001b[0m\u001b[0;34m(\u001b[0m\u001b[0;34m*\u001b[0m\u001b[0margs\u001b[0m\u001b[0;34m,\u001b[0m \u001b[0;34m**\u001b[0m\u001b[0mkwds\u001b[0m\u001b[0;34m)\u001b[0m\u001b[0;34m\u001b[0m\u001b[0;34m\u001b[0m\u001b[0m\n\u001b[0m\u001b[1;32m    633\u001b[0m     \u001b[0;32melse\u001b[0m\u001b[0;34m:\u001b[0m\u001b[0;34m\u001b[0m\u001b[0;34m\u001b[0m\u001b[0m\n\u001b[1;32m    634\u001b[0m       \u001b[0mcanon_args\u001b[0m\u001b[0;34m,\u001b[0m \u001b[0mcanon_kwds\u001b[0m \u001b[0;34m=\u001b[0m\u001b[0;31m \u001b[0m\u001b[0;31m\\\u001b[0m\u001b[0;34m\u001b[0m\u001b[0;34m\u001b[0m\u001b[0m\n",
      "\u001b[0;32m~/.conda/envs/base36/lib/python3.6/site-packages/tensorflow_core/python/eager/function.py\u001b[0m in \u001b[0;36m__call__\u001b[0;34m(self, *args, **kwargs)\u001b[0m\n\u001b[1;32m   2361\u001b[0m     \u001b[0;32mwith\u001b[0m \u001b[0mself\u001b[0m\u001b[0;34m.\u001b[0m\u001b[0m_lock\u001b[0m\u001b[0;34m:\u001b[0m\u001b[0;34m\u001b[0m\u001b[0;34m\u001b[0m\u001b[0m\n\u001b[1;32m   2362\u001b[0m       \u001b[0mgraph_function\u001b[0m\u001b[0;34m,\u001b[0m \u001b[0margs\u001b[0m\u001b[0;34m,\u001b[0m \u001b[0mkwargs\u001b[0m \u001b[0;34m=\u001b[0m \u001b[0mself\u001b[0m\u001b[0;34m.\u001b[0m\u001b[0m_maybe_define_function\u001b[0m\u001b[0;34m(\u001b[0m\u001b[0margs\u001b[0m\u001b[0;34m,\u001b[0m \u001b[0mkwargs\u001b[0m\u001b[0;34m)\u001b[0m\u001b[0;34m\u001b[0m\u001b[0;34m\u001b[0m\u001b[0m\n\u001b[0;32m-> 2363\u001b[0;31m     \u001b[0;32mreturn\u001b[0m \u001b[0mgraph_function\u001b[0m\u001b[0;34m.\u001b[0m\u001b[0m_filtered_call\u001b[0m\u001b[0;34m(\u001b[0m\u001b[0margs\u001b[0m\u001b[0;34m,\u001b[0m \u001b[0mkwargs\u001b[0m\u001b[0;34m)\u001b[0m  \u001b[0;31m# pylint: disable=protected-access\u001b[0m\u001b[0;34m\u001b[0m\u001b[0;34m\u001b[0m\u001b[0m\n\u001b[0m\u001b[1;32m   2364\u001b[0m \u001b[0;34m\u001b[0m\u001b[0m\n\u001b[1;32m   2365\u001b[0m   \u001b[0;34m@\u001b[0m\u001b[0mproperty\u001b[0m\u001b[0;34m\u001b[0m\u001b[0;34m\u001b[0m\u001b[0m\n",
      "\u001b[0;32m~/.conda/envs/base36/lib/python3.6/site-packages/tensorflow_core/python/eager/function.py\u001b[0m in \u001b[0;36m_filtered_call\u001b[0;34m(self, args, kwargs)\u001b[0m\n\u001b[1;32m   1609\u001b[0m          if isinstance(t, (ops.Tensor,\n\u001b[1;32m   1610\u001b[0m                            resource_variable_ops.BaseResourceVariable))),\n\u001b[0;32m-> 1611\u001b[0;31m         self.captured_inputs)\n\u001b[0m\u001b[1;32m   1612\u001b[0m \u001b[0;34m\u001b[0m\u001b[0m\n\u001b[1;32m   1613\u001b[0m   \u001b[0;32mdef\u001b[0m \u001b[0m_call_flat\u001b[0m\u001b[0;34m(\u001b[0m\u001b[0mself\u001b[0m\u001b[0;34m,\u001b[0m \u001b[0margs\u001b[0m\u001b[0;34m,\u001b[0m \u001b[0mcaptured_inputs\u001b[0m\u001b[0;34m,\u001b[0m \u001b[0mcancellation_manager\u001b[0m\u001b[0;34m=\u001b[0m\u001b[0;32mNone\u001b[0m\u001b[0;34m)\u001b[0m\u001b[0;34m:\u001b[0m\u001b[0;34m\u001b[0m\u001b[0;34m\u001b[0m\u001b[0m\n",
      "\u001b[0;32m~/.conda/envs/base36/lib/python3.6/site-packages/tensorflow_core/python/eager/function.py\u001b[0m in \u001b[0;36m_call_flat\u001b[0;34m(self, args, captured_inputs, cancellation_manager)\u001b[0m\n\u001b[1;32m   1690\u001b[0m       \u001b[0;31m# No tape is watching; skip to running the function.\u001b[0m\u001b[0;34m\u001b[0m\u001b[0;34m\u001b[0m\u001b[0;34m\u001b[0m\u001b[0m\n\u001b[1;32m   1691\u001b[0m       return self._build_call_outputs(self._inference_function.call(\n\u001b[0;32m-> 1692\u001b[0;31m           ctx, args, cancellation_manager=cancellation_manager))\n\u001b[0m\u001b[1;32m   1693\u001b[0m     forward_backward = self._select_forward_and_backward_functions(\n\u001b[1;32m   1694\u001b[0m         \u001b[0margs\u001b[0m\u001b[0;34m,\u001b[0m\u001b[0;34m\u001b[0m\u001b[0;34m\u001b[0m\u001b[0m\n",
      "\u001b[0;32m~/.conda/envs/base36/lib/python3.6/site-packages/tensorflow_core/python/eager/function.py\u001b[0m in \u001b[0;36mcall\u001b[0;34m(self, ctx, args, cancellation_manager)\u001b[0m\n\u001b[1;32m    543\u001b[0m               \u001b[0minputs\u001b[0m\u001b[0;34m=\u001b[0m\u001b[0margs\u001b[0m\u001b[0;34m,\u001b[0m\u001b[0;34m\u001b[0m\u001b[0;34m\u001b[0m\u001b[0m\n\u001b[1;32m    544\u001b[0m               \u001b[0mattrs\u001b[0m\u001b[0;34m=\u001b[0m\u001b[0;34m(\u001b[0m\u001b[0;34m\"executor_type\"\u001b[0m\u001b[0;34m,\u001b[0m \u001b[0mexecutor_type\u001b[0m\u001b[0;34m,\u001b[0m \u001b[0;34m\"config_proto\"\u001b[0m\u001b[0;34m,\u001b[0m \u001b[0mconfig\u001b[0m\u001b[0;34m)\u001b[0m\u001b[0;34m,\u001b[0m\u001b[0;34m\u001b[0m\u001b[0;34m\u001b[0m\u001b[0m\n\u001b[0;32m--> 545\u001b[0;31m               ctx=ctx)\n\u001b[0m\u001b[1;32m    546\u001b[0m         \u001b[0;32melse\u001b[0m\u001b[0;34m:\u001b[0m\u001b[0;34m\u001b[0m\u001b[0;34m\u001b[0m\u001b[0m\n\u001b[1;32m    547\u001b[0m           outputs = execute.execute_with_cancellation(\n",
      "\u001b[0;32m~/.conda/envs/base36/lib/python3.6/site-packages/tensorflow_core/python/eager/execute.py\u001b[0m in \u001b[0;36mquick_execute\u001b[0;34m(op_name, num_outputs, inputs, attrs, ctx, name)\u001b[0m\n\u001b[1;32m     65\u001b[0m     \u001b[0;32melse\u001b[0m\u001b[0;34m:\u001b[0m\u001b[0;34m\u001b[0m\u001b[0;34m\u001b[0m\u001b[0m\n\u001b[1;32m     66\u001b[0m       \u001b[0mmessage\u001b[0m \u001b[0;34m=\u001b[0m \u001b[0me\u001b[0m\u001b[0;34m.\u001b[0m\u001b[0mmessage\u001b[0m\u001b[0;34m\u001b[0m\u001b[0;34m\u001b[0m\u001b[0m\n\u001b[0;32m---> 67\u001b[0;31m     \u001b[0msix\u001b[0m\u001b[0;34m.\u001b[0m\u001b[0mraise_from\u001b[0m\u001b[0;34m(\u001b[0m\u001b[0mcore\u001b[0m\u001b[0;34m.\u001b[0m\u001b[0m_status_to_exception\u001b[0m\u001b[0;34m(\u001b[0m\u001b[0me\u001b[0m\u001b[0;34m.\u001b[0m\u001b[0mcode\u001b[0m\u001b[0;34m,\u001b[0m \u001b[0mmessage\u001b[0m\u001b[0;34m)\u001b[0m\u001b[0;34m,\u001b[0m \u001b[0;32mNone\u001b[0m\u001b[0;34m)\u001b[0m\u001b[0;34m\u001b[0m\u001b[0;34m\u001b[0m\u001b[0m\n\u001b[0m\u001b[1;32m     68\u001b[0m   \u001b[0;32mexcept\u001b[0m \u001b[0mTypeError\u001b[0m \u001b[0;32mas\u001b[0m \u001b[0me\u001b[0m\u001b[0;34m:\u001b[0m\u001b[0;34m\u001b[0m\u001b[0;34m\u001b[0m\u001b[0m\n\u001b[1;32m     69\u001b[0m     keras_symbolic_tensors = [\n",
      "\u001b[0;32m~/.conda/envs/base36/lib/python3.6/site-packages/six.py\u001b[0m in \u001b[0;36mraise_from\u001b[0;34m(value, from_value)\u001b[0m\n",
      "\u001b[0;31mInvalidArgumentError\u001b[0m:  Incompatible shapes: [100,300] vs. [100]\n\t [[node loss/fc-output_loss/Greater (defined at <ipython-input-41-61c80d406068>:67) ]] [Op:__inference_distributed_function_6863]\n\nErrors may have originated from an input operation.\nInput Source operations connected to node loss/fc-output_loss/Greater:\n loss/fc-output_loss/Sqrt (defined at <ipython-input-41-61c80d406068>:21)\n\nFunction call stack:\ndistributed_function\n"
     ]
    }
   ],
   "source": [
    "logger.info(\"* Model Training: starting\")\n",
    "# first test - only to debug code\n",
    "history = model.fit(train_datagenerator, \n",
    "                    #batch_size       = 300, \n",
    "                    verbose          = 1, \n",
    "                    epochs           = args.epochs,\n",
    "                    validation_data  = (data_audio_val, data_relcontent_val),\n",
    "                    #callbacks        = callbacks,\n",
    "                    shuffle          = True);"
   ]
  },
  {
   "cell_type": "code",
   "execution_count": 445,
   "metadata": {
    "Collapsed": "false"
   },
   "outputs": [
    {
     "name": "stdout",
     "output_type": "stream",
     "text": [
      "Model: \"model_2\"\n",
      "_________________________________________________________________\n",
      "Layer (type)                 Output Shape              Param #   \n",
      "=================================================================\n",
      "input_3 (InputLayer)         [(None, 128, 216, 2)]     0         \n",
      "_________________________________________________________________\n",
      "conv1 (Conv2D)               (None, 128, 108, 16)      816       \n",
      "_________________________________________________________________\n",
      "max-pool1 (MaxPooling2D)     (None, 64, 54, 16)        0         \n",
      "_________________________________________________________________\n",
      "conv2 (Conv2D)               (None, 64, 54, 32)        4640      \n",
      "_________________________________________________________________\n",
      "max-pool2 (MaxPooling2D)     (None, 32, 27, 32)        0         \n",
      "_________________________________________________________________\n",
      "conv3 (Conv2D)               (None, 32, 27, 64)        18496     \n",
      "_________________________________________________________________\n",
      "max-pool3 (MaxPooling2D)     (None, 16, 13, 64)        0         \n",
      "_________________________________________________________________\n",
      "conv4 (Conv2D)               (None, 16, 13, 64)        36928     \n",
      "_________________________________________________________________\n",
      "max-pool4 (MaxPooling2D)     (None, 8, 6, 64)          0         \n",
      "_________________________________________________________________\n",
      "conv5 (Conv2D)               (None, 8, 6, 128)         73856     \n",
      "_________________________________________________________________\n",
      "max-pool5 (MaxPooling2D)     (None, 4, 3, 128)         0         \n",
      "_________________________________________________________________\n",
      "conv61 (Conv2D)              (None, 4, 3, 128)         147584    \n",
      "_________________________________________________________________\n",
      "conv62 (Conv2D)              (None, 4, 3, 256)         33024     \n",
      "_________________________________________________________________\n",
      "gap (GlobalAveragePooling2D) (None, 256)               0         \n",
      "_________________________________________________________________\n",
      "fc-feature (Dense)           (None, 256)               65792     \n",
      "_________________________________________________________________\n",
      "dropout_2 (Dropout)          (None, 256)               0         \n",
      "_________________________________________________________________\n",
      "fc-output (Dense)            (None, 128)               32896     \n",
      "=================================================================\n",
      "Total params: 414,032\n",
      "Trainable params: 414,032\n",
      "Non-trainable params: 0\n",
      "_________________________________________________________________\n"
     ]
    }
   ],
   "source": [
    "model.summary()"
   ]
  },
  {
   "cell_type": "code",
   "execution_count": 287,
   "metadata": {
    "Collapsed": "false"
   },
   "outputs": [],
   "source": [
    "embeddings = model.predict(data_audio_train[:100])"
   ]
  },
  {
   "cell_type": "code",
   "execution_count": 288,
   "metadata": {
    "Collapsed": "false"
   },
   "outputs": [],
   "source": [
    "%matplotlib inline\n",
    "\n",
    "import matplotlib.pyplot as plt"
   ]
  },
  {
   "cell_type": "code",
   "execution_count": 289,
   "metadata": {
    "Collapsed": "false"
   },
   "outputs": [
    {
     "data": {
      "text/plain": [
       "<matplotlib.image.AxesImage at 0x7f6054550e80>"
      ]
     },
     "execution_count": 289,
     "metadata": {},
     "output_type": "execute_result"
    },
    {
     "data": {
      "image/png": "[encoded data removed]",
      "text/plain": [
       "<Figure size 432x288 with 1 Axes>"
      ]
     },
     "metadata": {
      "needs_background": "light"
     },
     "output_type": "display_data"
    }
   ],
   "source": [
    "plt.imshow(embeddings)"
   ]
  },
  {
   "cell_type": "code",
   "execution_count": 290,
   "metadata": {
    "Collapsed": "false"
   },
   "outputs": [
    {
     "data": {
      "text/plain": [
       "array([[ 8.62554065e-04, -1.57725811e-03,  7.92967994e-03, ...,\n",
       "        -3.34244967e-03,  8.70856456e-04, -3.12542915e-03],\n",
       "       [ 1.22367323e-03, -2.40933895e-03,  1.14681767e-02, ...,\n",
       "        -3.78507376e-03,  3.25050205e-03, -3.87662649e-03],\n",
       "       [ 6.35376084e-04, -4.83119488e-03,  1.23331705e-02, ...,\n",
       "        -2.72279978e-03,  3.71459406e-03, -3.79580259e-03],\n",
       "       ...,\n",
       "       [ 1.34877989e-03, -1.91712379e-03,  1.04327453e-02, ...,\n",
       "        -2.84612179e-03,  2.95229629e-03, -2.12794542e-03],\n",
       "       [ 1.96444523e-03, -1.90186501e-03,  1.19501995e-02, ...,\n",
       "        -3.82292271e-03,  3.23392986e-03, -2.96080112e-03],\n",
       "       [-8.31484795e-05, -6.47127628e-03,  1.20019028e-02, ...,\n",
       "        -4.43172455e-03,  4.06207191e-03, -4.24808264e-03]], dtype=float32)"
      ]
     },
     "execution_count": 290,
     "metadata": {},
     "output_type": "execute_result"
    }
   ],
   "source": [
    "embeddings"
   ]
  },
  {
   "cell_type": "raw",
   "metadata": {
    "Collapsed": "false"
   },
   "source": [
    "logger.info(\"* Model Training: completed\")\n",
    "\n",
    "model_path = args.modeldir + \"/model.h5\"\n",
    "logger.info(\"* Loading best model: %s\" % model_path)\n",
    "model.load_weights(model_path)\n",
    "\n",
    "logger.info(\"* Inference: Embedding audio data into learned representation\")\n",
    "embeddings = model.predict(data_audio, batch_size=100, verbose=1)\n",
    "\n",
    "logger.info(\"* storing embeddings\")\n",
    "np.savez(args.modeldir + \"/final_embeddings.npz\", data=embeddings, track_ids=lookup_audio.index.values)\n",
    "\n",
    "logger.info(\"* Experiment finished!\")"
   ]
  }
 ],
 "metadata": {
  "kernelspec": {
   "display_name": "base36",
   "language": "python",
   "name": "base36"
  },
  "language_info": {
   "codemirror_mode": {
    "name": "ipython",
    "version": 3
   },
   "file_extension": ".py",
   "mimetype": "text/x-python",
   "name": "python",
   "nbconvert_exporter": "python",
   "pygments_lexer": "ipython3",
   "version": "3.6.10"
  }
 },
 "nbformat": 4,
 "nbformat_minor": 4
}
