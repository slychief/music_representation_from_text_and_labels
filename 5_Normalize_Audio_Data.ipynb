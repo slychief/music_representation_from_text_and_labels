{
 "cells": [
  {
   "cell_type": "markdown",
   "metadata": {
    "Collapsed": "false"
   },
   "source": [
    "# Imports"
   ]
  },
  {
   "cell_type": "code",
   "execution_count": 1,
   "metadata": {
    "Collapsed": "false"
   },
   "outputs": [],
   "source": [
    "import numpy as np\n",
    "import progressbar as pb"
   ]
  },
  {
   "cell_type": "markdown",
   "metadata": {
    "Collapsed": "false"
   },
   "source": [
    "# Configuration"
   ]
  },
  {
   "cell_type": "code",
   "execution_count": 2,
   "metadata": {
    "Collapsed": "false"
   },
   "outputs": [],
   "source": [
    "# directory to store intermediate and final results of the experiment\n",
    "EXPERIMENT_DIR      = \"/home/schindlera/experiments/ismir2020_reviews/\"\n",
    "\n",
    "AUDIO_FILENAME_STEM = \"melspec_128_10seconds_2ch\""
   ]
  },
  {
   "cell_type": "markdown",
   "metadata": {
    "Collapsed": "false"
   },
   "source": [
    "# Normalize Data"
   ]
  },
  {
   "cell_type": "markdown",
   "metadata": {
    "Collapsed": "false"
   },
   "source": [
    "## Calculate Means from Train Partition"
   ]
  },
  {
   "cell_type": "markdown",
   "metadata": {
    "Collapsed": "false"
   },
   "source": [
    "Calculate means over time for each Mel-band and channel"
   ]
  },
  {
   "cell_type": "code",
   "execution_count": 3,
   "metadata": {
    "Collapsed": "false"
   },
   "outputs": [
    {
     "name": "stdout",
     "output_type": "stream",
     "text": [
      "CPU times: user 4min 5s, sys: 1min 46s, total: 5min 51s\n",
      "Wall time: 9min 9s\n"
     ]
    }
   ],
   "source": [
    "audio_filename_train = \"%s/%s_train.npz\" % (EXPERIMENT_DIR, AUDIO_FILENAME_STEM)\n",
    "\n",
    "with np.load(audio_filename_train, allow_pickle=True) as npz:\n",
    "    data     = npz[\"data\"]\n",
    "    trackids = npz[\"track_ids\"]"
   ]
  },
  {
   "cell_type": "markdown",
   "metadata": {
    "Collapsed": "false"
   },
   "source": [
    "If you have already stored the values, use the code below to load them"
   ]
  },
  {
   "cell_type": "raw",
   "metadata": {
    "Collapsed": "false"
   },
   "source": [
    "normalization_param_filename = \"%s/normalization_parameters.npz\" % (EXPERIMENT_DIR)\n",
    "\n",
    "with np.load(normalization_param_filename, allow_pickle=True) as npz:\n",
    "    means = npz[\"means\"]\n",
    "    stds  = npz[\"stds\"]"
   ]
  },
  {
   "cell_type": "code",
   "execution_count": 6,
   "metadata": {
    "Collapsed": "false"
   },
   "outputs": [],
   "source": [
    "means = data.mean(axis=(0,2), keepdims=True)\n",
    "stds     = data.std(axis=(0,2), keepdims=True)"
   ]
  },
  {
   "cell_type": "code",
   "execution_count": null,
   "metadata": {
    "Collapsed": "false"
   },
   "outputs": [],
   "source": [
    "normalization_param_filename = \"%s/normalization_parameters.npz\" % (EXPERIMENT_DIR)\n",
    "\n",
    "np.savez(normalization_param_filename, means=means, stds=stds)"
   ]
  },
  {
   "cell_type": "markdown",
   "metadata": {
    "Collapsed": "false"
   },
   "source": [
    "## Normalize all Experiment Partitions"
   ]
  },
  {
   "cell_type": "markdown",
   "metadata": {
    "Collapsed": "false"
   },
   "source": [
    "First, normalize the train partition, because the data is already loaded in memory"
   ]
  },
  {
   "cell_type": "code",
   "execution_count": 9,
   "metadata": {
    "Collapsed": "false"
   },
   "outputs": [
    {
     "name": "stderr",
     "output_type": "stream",
     "text": [
      "100% (2475 of 2475) |####################| Elapsed Time: 0:04:28 Time:  0:04:28\n"
     ]
    }
   ],
   "source": [
    "for i in pb.ProgressBar()(np.arange(0, data.shape[0], 100)):\n",
    "    \n",
    "    start = i\n",
    "    stop  = start + 100\n",
    "    \n",
    "    data[start:stop,:,:,:] -= means\n",
    "    data[start:stop,:,:,:] /= stds"
   ]
  },
  {
   "cell_type": "markdown",
   "metadata": {
    "Collapsed": "false"
   },
   "source": [
    "Store normalized audio data"
   ]
  },
  {
   "cell_type": "code",
   "execution_count": 19,
   "metadata": {
    "Collapsed": "false"
   },
   "outputs": [
    {
     "name": "stdout",
     "output_type": "stream",
     "text": [
      "CPU times: user 9 µs, sys: 0 ns, total: 9 µs\n",
      "Wall time: 16.5 µs\n"
     ]
    }
   ],
   "source": [
    "audio_filename_train = \"%s/%s_norm_train.npz\" % (EXPERIMENT_DIR, AUDIO_FILENAME_STEM)\n",
    "\n",
    "np.savez(audio_filename_train, \n",
    "         data      = data, \n",
    "         track_ids = trackids)"
   ]
  },
  {
   "cell_type": "code",
   "execution_count": 21,
   "metadata": {
    "Collapsed": "false"
   },
   "outputs": [],
   "source": [
    "del data, trackids"
   ]
  },
  {
   "cell_type": "code",
   "execution_count": 10,
   "metadata": {
    "Collapsed": "false"
   },
   "outputs": [],
   "source": [
    "for par in [\"val\", \"test\"]:\n",
    "\n",
    "    # load audio data\n",
    "    audio_filename_par = \"%s/%s_%s.npz\" % (EXPERIMENT_DIR, AUDIO_FILENAME_STEM, par)\n",
    "    \n",
    "    with np.load(audio_filename_par, allow_pickle=True) as npz:\n",
    "        data     = npz[\"data\"]\n",
    "        trackids = npz[\"track_ids\"]\n",
    "        \n",
    "    # normalize audio data\n",
    "    for i in pb.ProgressBar()(np.arange(0, data.shape[0], 100)):\n",
    "\n",
    "        start = i\n",
    "        stop  = start + 100\n",
    "\n",
    "        data[start:stop,:,:,:] -= means\n",
    "        data[start:stop,:,:,:] /= stds\n",
    "        \n",
    "\n",
    "    # store normalized audio data\n",
    "    audio_filename_train = \"%s/%s_norm_%s.npz\" % (EXPERIMENT_DIR, AUDIO_FILENAME_STEM, par)\n",
    "\n",
    "    np.savez(audio_filename_train, \n",
    "             data      = data, \n",
    "             track_ids = trackids)\n",
    "        \n",
    "        \n",
    "    del data, trackids"
   ]
  }
 ],
 "metadata": {
  "kernelspec": {
   "display_name": "base36",
   "language": "python",
   "name": "base36"
  },
  "language_info": {
   "codemirror_mode": {
    "name": "ipython",
    "version": 3
   },
   "file_extension": ".py",
   "mimetype": "text/x-python",
   "name": "python",
   "nbconvert_exporter": "python",
   "pygments_lexer": "ipython3",
   "version": "3.6.10"
  }
 },
 "nbformat": 4,
 "nbformat_minor": 4
}
