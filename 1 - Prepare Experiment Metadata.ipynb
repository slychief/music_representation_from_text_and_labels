{
 "cells": [
  {
   "cell_type": "markdown",
   "metadata": {
    "Collapsed": "false"
   },
   "source": [
    "# Configuration"
   ]
  },
  {
   "cell_type": "code",
   "execution_count": 13,
   "metadata": {
    "Collapsed": "false"
   },
   "outputs": [],
   "source": [
    "# directory where MSD audio samples are stored (root directory)\n",
    "MSD_SAMPLE_DIR                      = \"/mnt/dataset_storage/audio/music/MSD/audio/\"\n",
    "\n",
    "# path to \"msd_amglabels_all.h5\" - leave blank to skip\n",
    "MSD_AMG_TAGS_PATH                   = \"/home/schindlera/experiments/representation_from_album_review/data/msd_amglabels_all.h5\"\n",
    "\n",
    "# Album Reviews - leave blank to skip\n",
    "MSD_AMG_REVIEW_TRACKID_MAPPING_PATH = \"/home/schindlera/experiments/representation_from_album_review/data/MSD_AMG_REVIEW_TRACKID_MAPPING.h5\"\n",
    "\n",
    "# directory to store intermediate and final results of the experiment\n",
    "EXPERIMENT_DIR                      = \"/home/schindlera/experiments/ismir2020_reviews/\"\n",
    "\n",
    "VALIDATION_SPLIT_PERCENTAGE         = 0.05"
   ]
  },
  {
   "cell_type": "markdown",
   "metadata": {
    "Collapsed": "false"
   },
   "source": [
    "# Imports"
   ]
  },
  {
   "cell_type": "code",
   "execution_count": 22,
   "metadata": {
    "Collapsed": "false",
    "ExecuteTime": {
     "end_time": "2020-03-16T14:22:44.212352Z",
     "start_time": "2020-03-16T14:22:43.374144Z"
    }
   },
   "outputs": [],
   "source": [
    "%matplotlib inline\n",
    "import matplotlib.pyplot as plt\n",
    "\n",
    "import os\n",
    "import pandas as pd\n",
    "import numpy as np\n",
    "\n",
    "from sklearn.preprocessing import MultiLabelBinarizer, LabelEncoder\n",
    "from sklearn.model_selection import StratifiedShuffleSplit\n"
   ]
  },
  {
   "cell_type": "markdown",
   "metadata": {
    "Collapsed": "false"
   },
   "source": [
    "# Load Data"
   ]
  },
  {
   "cell_type": "markdown",
   "metadata": {
    "Collapsed": "false"
   },
   "source": [
    "## Find all MSD audio samples"
   ]
  },
  {
   "cell_type": "code",
   "execution_count": 3,
   "metadata": {
    "Collapsed": "false"
   },
   "outputs": [
    {
     "name": "stdout",
     "output_type": "stream",
     "text": [
      "995000 MSD audio samples found\n"
     ]
    }
   ],
   "source": [
    "sample_fullpaths = []\n",
    "sample_track_ids = []\n",
    "\n",
    "for root, dirs, files in os.walk(MSD_SAMPLE_DIR):\n",
    "    for file in files:\n",
    "        if file.endswith(\".mp3\"):\n",
    "            sample_fullpaths.append(os.path.join(root, file))\n",
    "            sample_track_ids.append(file.replace(\".mp3\", \"\"))\n",
    "\n",
    "metadata_audio          = pd.DataFrame(sample_fullpaths, index=sample_track_ids, columns=[\"audio_path\"])\n",
    "metadata_audio[\"audio\"] = True\n",
    "\n",
    "print(\"%d MSD audio samples found\" % metadata_audio.shape[0])"
   ]
  },
  {
   "cell_type": "markdown",
   "metadata": {
    "Collapsed": "false"
   },
   "source": [
    "## Join with Tagset Data"
   ]
  },
  {
   "cell_type": "code",
   "execution_count": 11,
   "metadata": {
    "Collapsed": "false",
    "ExecuteTime": {
     "end_time": "2020-03-16T14:23:18.072716Z",
     "start_time": "2020-03-16T14:23:15.414717Z"
    }
   },
   "outputs": [
    {
     "name": "stdout",
     "output_type": "stream",
     "text": [
      "Intersection size: 504992\n"
     ]
    }
   ],
   "source": [
    "if os.path.exists(MSD_AMG_TAGS_PATH):\n",
    "\n",
    "    # load labelsets from hdf5 archive\n",
    "    msd_amgtags_all         = pd.read_hdf(MSD_AMG_TAGS_PATH, \"data\")\n",
    "\n",
    "    # only use instances where at least one genre tag is provided\n",
    "    msd_amgtags_all         = msd_amgtags_all[~msd_amgtags_all.genres.isna()]\n",
    "    msd_amgtags_all[\"tags\"] = True\n",
    "\n",
    "    # join with audio metadata\n",
    "    metadata_final          = metadata_audio.join(msd_amgtags_all, how=\"inner\")\n",
    "\n",
    "    print(\"Intersection size: %d\" % metadata_final.shape[0])\n",
    "    \n",
    "else:\n",
    "    \n",
    "    metadata_final = metadata_audio"
   ]
  },
  {
   "cell_type": "markdown",
   "metadata": {
    "Collapsed": "false"
   },
   "source": [
    "## Join with Album Review Dataset"
   ]
  },
  {
   "cell_type": "code",
   "execution_count": 14,
   "metadata": {
    "Collapsed": "false",
    "ExecuteTime": {
     "end_time": "2020-03-16T14:23:18.072716Z",
     "start_time": "2020-03-16T14:23:15.414717Z"
    }
   },
   "outputs": [
    {
     "name": "stdout",
     "output_type": "stream",
     "text": [
      "Intersection size: 249992\n"
     ]
    }
   ],
   "source": [
    "if os.path.exists(MSD_AMG_REVIEW_TRACKID_MAPPING_PATH):\n",
    "\n",
    "    MSD_lastfmid_trackid_mapping            = pd.read_hdf(MSD_AMG_REVIEW_TRACKID_MAPPING_PATH, \"data\")\n",
    "    MSD_lastfmid_trackid_mapping            = MSD_lastfmid_trackid_mapping.set_index(\"track_id\")\n",
    "    MSD_lastfmid_trackid_mapping[\"reviews\"] = True\n",
    "\n",
    "    metadata_final = metadata_final.join(MSD_lastfmid_trackid_mapping, how=\"inner\")\n",
    "\n",
    "    print(\"Intersection size: %d\" % metadata_final.shape[0])"
   ]
  },
  {
   "cell_type": "markdown",
   "metadata": {
    "Collapsed": "false"
   },
   "source": [
    "# Create Evaluation Partitions"
   ]
  },
  {
   "cell_type": "markdown",
   "metadata": {
    "Collapsed": "false"
   },
   "source": [
    "## Util Functons"
   ]
  },
  {
   "cell_type": "code",
   "execution_count": 15,
   "metadata": {
    "Collapsed": "false"
   },
   "outputs": [],
   "source": [
    "def get_least_frequent_genre(genre_list):\n",
    "\n",
    "    vals = []\n",
    "\n",
    "    for g in genre_list:\n",
    "\n",
    "        g_idx = genre_frequencies.index.get_loc(g)\n",
    "\n",
    "        vals.append([g_idx, g])\n",
    "\n",
    "    vals = pd.DataFrame(vals, columns=[\"rank\", \"genre\"]).sort_values(\"rank\", ascending=False)\n",
    "    \n",
    "    return vals.iloc[0].genre"
   ]
  },
  {
   "cell_type": "markdown",
   "metadata": {
    "Collapsed": "false"
   },
   "source": [
    "## Partition Data"
   ]
  },
  {
   "cell_type": "markdown",
   "metadata": {
    "Collapsed": "false"
   },
   "source": [
    "### Pre-Process Labels to facilitate Stratification"
   ]
  },
  {
   "cell_type": "markdown",
   "metadata": {
    "Collapsed": "false"
   },
   "source": [
    "### Original Distribution"
   ]
  },
  {
   "cell_type": "code",
   "execution_count": 17,
   "metadata": {
    "Collapsed": "false"
   },
   "outputs": [
    {
     "data": {
      "image/png": "[encoded data removed]",
      "text/plain": [
       "<Figure size 576x288 with 1 Axes>"
      ]
     },
     "metadata": {
      "needs_background": "light"
     },
     "output_type": "display_data"
    }
   ],
   "source": [
    "mlb = MultiLabelBinarizer()\n",
    "\n",
    "experiment_genres = mlb.fit_transform(metadata_final.genres)\n",
    "experiment_genres = pd.DataFrame(experiment_genres, index=metadata_final.index, columns=mlb.classes_)\n",
    "\n",
    "genre_frequencies = experiment_genres.sum(axis=0).sort_values(ascending=False)\n",
    "genre_frequencies.plot(kind='bar', figsize=(8,4));"
   ]
  },
  {
   "cell_type": "markdown",
   "metadata": {
    "Collapsed": "false"
   },
   "source": [
    "## Flattened Distribution (only take least frequent tag)"
   ]
  },
  {
   "cell_type": "code",
   "execution_count": 18,
   "metadata": {
    "Collapsed": "false"
   },
   "outputs": [
    {
     "data": {
      "image/png": "[encoded data removed]",
      "text/plain": [
       "<Figure size 576x288 with 1 Axes>"
      ]
     },
     "metadata": {
      "needs_background": "light"
     },
     "output_type": "display_data"
    }
   ],
   "source": [
    "processed_genres         = metadata_final.genres.apply(lambda x: get_least_frequent_genre(x))\n",
    "processed_genres         = pd.DataFrame(processed_genres)\n",
    "processed_genres.columns = [\"genres_flattened\"]\n",
    "\n",
    "processed_genres.reset_index().groupby(\"genres_flattened\").count().sort_values(\"index\", ascending=False).plot(kind='bar', figsize=(8,4));"
   ]
  },
  {
   "cell_type": "code",
   "execution_count": 19,
   "metadata": {
    "Collapsed": "false"
   },
   "outputs": [],
   "source": [
    "# join processed genres with final metadata\n",
    "assert(metadata_final.shape[0] == processed_genres.shape[0])\n",
    "\n",
    "metadata_final = metadata_final.join(processed_genres)"
   ]
  },
  {
   "cell_type": "markdown",
   "metadata": {
    "Collapsed": "false"
   },
   "source": [
    "# Create Partitions"
   ]
  },
  {
   "cell_type": "markdown",
   "metadata": {
    "Collapsed": "false"
   },
   "source": [
    "Numerically encode labels"
   ]
  },
  {
   "cell_type": "code",
   "execution_count": 20,
   "metadata": {
    "Collapsed": "false"
   },
   "outputs": [],
   "source": [
    "encoder = LabelEncoder()\n",
    "encoder = encoder.fit(metadata_final.genres_flattened)\n",
    "\n",
    "genres_encoded = encoder.transform(metadata_final.genres_flattened)"
   ]
  },
  {
   "cell_type": "markdown",
   "metadata": {
    "Collapsed": "false"
   },
   "source": [
    "create train/validation splits"
   ]
  },
  {
   "cell_type": "code",
   "execution_count": 23,
   "metadata": {
    "Collapsed": "false"
   },
   "outputs": [
    {
     "data": {
      "text/plain": [
       "(237492, 12500)"
      ]
     },
     "execution_count": 23,
     "metadata": {},
     "output_type": "execute_result"
    }
   ],
   "source": [
    "sss                = StratifiedShuffleSplit(n_splits=1, test_size=VALIDATION_SPLIT_PERCENTAGE, random_state=0)\n",
    "\n",
    "idx_train, idx_val = list(sss.split(np.ones(genres_encoded.shape[0]), genres_encoded))[0]\n",
    "\n",
    "idx_train.shape[0], idx_val.shape[0]"
   ]
  },
  {
   "cell_type": "code",
   "execution_count": 24,
   "metadata": {
    "Collapsed": "false"
   },
   "outputs": [
    {
     "data": {
      "image/png": "[encoded data removed]",
      "text/plain": [
       "<Figure size 1008x288 with 2 Axes>"
      ]
     },
     "metadata": {
      "needs_background": "light"
     },
     "output_type": "display_data"
    }
   ],
   "source": [
    "fig = plt.figure(figsize=(14, 4))\n",
    "\n",
    "ax1 = fig.add_subplot(121)\n",
    "ax2 = fig.add_subplot(122)\n",
    "metadata_final.iloc[idx_val].reset_index().groupby(\"genres_flattened\").count().sort_values(\"index\", ascending=False).genres.plot(kind='bar', ax=ax1, title=\"Train genre frequ. distribution\");\n",
    "metadata_final.iloc[idx_train].reset_index().groupby(\"genres_flattened\").count().sort_values(\"index\", ascending=False).genres.plot(kind='bar', ax=ax2, title=\"Validation genre frequ. distribution\");"
   ]
  },
  {
   "cell_type": "markdown",
   "metadata": {
    "Collapsed": "false"
   },
   "source": [
    "Assign Partitions"
   ]
  },
  {
   "cell_type": "code",
   "execution_count": 25,
   "metadata": {
    "Collapsed": "false"
   },
   "outputs": [],
   "source": [
    "metadata_final[\"train\"] = False\n",
    "metadata_final[\"val\"]   = False\n",
    "\n",
    "metadata_final.loc[metadata_final.iloc[idx_train].index, \"train\"] = True\n",
    "metadata_final.loc[metadata_final.iloc[idx_val].index,   \"val\"]   = True"
   ]
  },
  {
   "cell_type": "code",
   "execution_count": 29,
   "metadata": {
    "Collapsed": "false"
   },
   "outputs": [],
   "source": [
    "if not os.path.exists(EXPERIMENT_DIR):\n",
    "    os.path.makedirs(EXPERIMENT_DIR)"
   ]
  },
  {
   "cell_type": "code",
   "execution_count": 28,
   "metadata": {
    "Collapsed": "false"
   },
   "outputs": [
    {
     "name": "stderr",
     "output_type": "stream",
     "text": [
      "/home/schindlera/.conda/envs/base36/lib/python3.6/site-packages/pandas/core/generic.py:2505: PerformanceWarning: \n",
      "your performance may suffer as PyTables will pickle object types that it cannot\n",
      "map directly to c-types [inferred_type->mixed,key->block2_values] [items->Index(['audio_path', 'genres', 'styles', 'moods', 'themes', 'artist_name',\n",
      "       'title', 'release', 'genres_flattened'],\n",
      "      dtype='object')]\n",
      "\n",
      "  encoding=encoding,\n"
     ]
    }
   ],
   "source": [
    "metadata_final.to_hdf(EXPERIMENT_DIR + \"/experiment_partition.h5\", \"data\")"
   ]
  },
  {
   "cell_type": "markdown",
   "metadata": {
    "Collapsed": "false"
   },
   "source": [
    "# Create partition TrackID files for Feature extraction"
   ]
  },
  {
   "cell_type": "markdown",
   "metadata": {
    "Collapsed": "false"
   },
   "source": [
    "Train Partition"
   ]
  },
  {
   "cell_type": "code",
   "execution_count": 34,
   "metadata": {
    "Collapsed": "false"
   },
   "outputs": [],
   "source": [
    "metadata_final[metadata_final.train].reset_index()[[\"index\"]].to_csv(EXPERIMENT_DIR + \"/eval_partition_trackids_train.csv\", header=None, index=None)"
   ]
  },
  {
   "cell_type": "markdown",
   "metadata": {
    "Collapsed": "false"
   },
   "source": [
    "Validation Partition"
   ]
  },
  {
   "cell_type": "code",
   "execution_count": 35,
   "metadata": {
    "Collapsed": "false"
   },
   "outputs": [],
   "source": [
    "metadata_final[metadata_final.val].reset_index()[[\"index\"]].to_csv(EXPERIMENT_DIR + \"/eval_partition_trackids_val.csv\", header=None, index=None)"
   ]
  }
 ],
 "metadata": {
  "kernelspec": {
   "display_name": "Python 3",
   "language": "python",
   "name": "python3"
  },
  "language_info": {
   "codemirror_mode": {
    "name": "ipython",
    "version": 3
   },
   "file_extension": ".py",
   "mimetype": "text/x-python",
   "name": "python",
   "nbconvert_exporter": "python",
   "pygments_lexer": "ipython3",
   "version": "3.6.10"
  },
  "notify_time": "10",
  "toc": {
   "base_numbering": 1,
   "nav_menu": {},
   "number_sections": true,
   "sideBar": true,
   "skip_h1_title": false,
   "title_cell": "Table of Contents",
   "title_sidebar": "Contents",
   "toc_cell": false,
   "toc_position": {},
   "toc_section_display": true,
   "toc_window_display": false
  }
 },
 "nbformat": 4,
 "nbformat_minor": 4
}
