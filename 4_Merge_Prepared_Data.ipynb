{
 "cells": [
  {
   "cell_type": "markdown",
   "metadata": {
    "Collapsed": "false"
   },
   "source": [
    "# Configuration"
   ]
  },
  {
   "cell_type": "code",
   "execution_count": 6,
   "metadata": {
    "Collapsed": "false"
   },
   "outputs": [],
   "source": [
    "config = [\n",
    "    \n",
    "# General Processing Parameters\n",
    "# =============================\n",
    "    \n",
    "# Path to trackid partition file.\n",
    "'--tidfile', \"/home/schindlera/experiments/ismir2020_reviews/eval_trackids.csv\", \n",
    "\n",
    "# Path to directory where intermediate features are stored\n",
    "\"--src\", \"/home/schindlera/sshfs/spark_master_schindlera/MSD/melspec_128_10seconds_2ch/\",\n",
    "\n",
    "# Path to directory to store merged feature-file\n",
    "\"--dst\", \"/home/schindlera/sshfs/spark_master_schindlera/MSD/melspec_128_10seconds_2ch/\",\n",
    "    \n",
    "\"--crop\",            # Crop longer audio files (comment/uncomment)\n",
    "\"--pad\",             # Zero-pad shorter audio files (comment/uncomment)\n",
    "    \n",
    "\"--length_frames\", \"880\"   # final length of extracted segment (in dimensions / number of frames)\n",
    "    \n",
    "]"
   ]
  },
  {
   "cell_type": "markdown",
   "metadata": {
    "Collapsed": "false"
   },
   "source": [
    "# Imports"
   ]
  },
  {
   "cell_type": "code",
   "execution_count": 7,
   "metadata": {
    "Collapsed": "false"
   },
   "outputs": [],
   "source": [
    "import argparse\n",
    "import logging\n",
    "import pandas as pd\n",
    "import os\n",
    "import numpy as np\n",
    "from tqdm.auto import tqdm\n",
    "\n",
    "import warnings\n",
    "warnings.filterwarnings('ignore')"
   ]
  },
  {
   "cell_type": "markdown",
   "metadata": {
    "Collapsed": "false"
   },
   "source": [
    "Parse Configuration"
   ]
  },
  {
   "cell_type": "code",
   "execution_count": 8,
   "metadata": {
    "Collapsed": "false"
   },
   "outputs": [],
   "source": [
    "parser = argparse.ArgumentParser()\n",
    "parser.add_argument('--tidfile',    type=str)\n",
    "parser.add_argument('--src',        type=str)\n",
    "parser.add_argument('--dst',        type=str)\n",
    "parser.add_argument('--crop', action='store_true')\n",
    "parser.add_argument('--pad', action='store_true')\n",
    "parser.add_argument(\"--length_frames\", help=\"final length of extracted segment (in dimensions / number of frames)\", type=int)\n",
    "parser.add_argument(\"--log-level\",  default=logging.INFO, type=lambda x: getattr(logging, x), help=\"Configure the logging level.\")\n",
    "\n",
    "if sys.argv[0].find(\"ipykernel_launcher\") != -1:\n",
    "    args = parser.parse_args(config)\n",
    "else:\n",
    "    args = parser.parse_args()"
   ]
  },
  {
   "cell_type": "code",
   "execution_count": 9,
   "metadata": {
    "Collapsed": "false"
   },
   "outputs": [],
   "source": [
    "logging.basicConfig(format='%(asctime)s %(levelname)s: %(message)s', level=logging.DEBUG, datefmt='%Y-%m-%d %H:%M:%S')\n",
    "logging.basicConfig(level=args.log_level)"
   ]
  },
  {
   "cell_type": "code",
   "execution_count": null,
   "metadata": {
    "Collapsed": "false"
   },
   "outputs": [],
   "source": []
  },
  {
   "cell_type": "code",
   "execution_count": 13,
   "metadata": {
    "Collapsed": "false"
   },
   "outputs": [],
   "source": [
    "def merge_melspecs(args):\n",
    "    \n",
    "    tids = pd.read_csv(args.tidfile, header=None, index_col=0)\n",
    "\n",
    "    mel_specs = []\n",
    "    pbar      = tqdm(total=tids.shape[0])\n",
    "\n",
    "    i = 0\n",
    "\n",
    "    for tid in tids.index:\n",
    "\n",
    "        with np.load(args.src + \"/\" + tid + \".npz\", allow_pickle=True) as npz:\n",
    "\n",
    "            mel_spec = npz[\"data\"].astype(np.float32)\n",
    "\n",
    "            if (args.pad) and (mel_spec.shape[1] < args.length_frames):\n",
    "\n",
    "                zeros = np.zeros((mel_spec.shape[0],args.length_frames,mel_spec.shape[2]), dtype=np.float32)\n",
    "                zeros[:mel_spec.shape[0], :mel_spec.shape[1], :mel_spec.shape[2]] = mel_spec\n",
    "\n",
    "                mel_spec = zeros\n",
    "\n",
    "            if args.crop:\n",
    "                mel_spec = mel_spec[:,:args.length_frames,:]\n",
    "\n",
    "            mel_specs.append(mel_spec)\n",
    "\n",
    "            pbar.update()\n",
    "\n",
    "\n",
    "    np.savez(args.dst, data=mel_specs, track_ids=tids)"
   ]
  },
  {
   "cell_type": "code",
   "execution_count": null,
   "metadata": {
    "Collapsed": "false"
   },
   "outputs": [],
   "source": [
    "merge_melspecs(args)"
   ]
  },
  {
   "cell_type": "markdown",
   "metadata": {
    "Collapsed": "false"
   },
   "source": [
    "# ISMIR 2020 Paper - Experiments"
   ]
  },
  {
   "cell_type": "code",
   "execution_count": 14,
   "metadata": {
    "Collapsed": "false"
   },
   "outputs": [
    {
     "data": {
      "application/vnd.jupyter.widget-view+json": {
       "model_id": "db0c47fb8d2343878d57727710b23c2f",
       "version_major": 2,
       "version_minor": 0
      },
      "text/plain": [
       "HBox(children=(FloatProgress(value=0.0, max=247480.0), HTML(value='')))"
      ]
     },
     "metadata": {},
     "output_type": "display_data"
    }
   ],
   "source": [
    "config = [\n",
    "'--tidfile', \"/home/schindlera/experiments/ismir2020_reviews/eval_partition_trackids_train.csv\", \n",
    "\"--src\",     \"/home/schindlera/sshfs/spark_master_schindlera/MSD/melspec_128_10seconds_2ch/\",\n",
    "\"--dst\",     \"/home/schindlera/experiments/ismir2020_reviews/melspec_128_10seconds_2ch_train.npz\",\n",
    "\"--crop\",           \n",
    "\"--pad\",            \n",
    "\"--length_frames\", \"880\"  \n",
    "]\n",
    "\n",
    "args = parser.parse_args(config)\n",
    "\n",
    "merge_melspecs(args)"
   ]
  },
  {
   "cell_type": "code",
   "execution_count": 15,
   "metadata": {
    "Collapsed": "false"
   },
   "outputs": [
    {
     "data": {
      "application/vnd.jupyter.widget-view+json": {
       "model_id": "15116d369f9f47019d23c72e5acb9860",
       "version_major": 2,
       "version_minor": 0
      },
      "text/plain": [
       "HBox(children=(FloatProgress(value=0.0, max=2500.0), HTML(value='')))"
      ]
     },
     "metadata": {},
     "output_type": "display_data"
    }
   ],
   "source": [
    "config = [\n",
    "'--tidfile', \"/home/schindlera/experiments/ismir2020_reviews/eval_partition_trackids_val.csv\", \n",
    "\"--src\",     \"/home/schindlera/sshfs/spark_master_schindlera/MSD/melspec_128_10seconds_2ch/\",\n",
    "\"--dst\",     \"/home/schindlera/experiments/ismir2020_reviews/melspec_128_10seconds_2ch_val.npz\",\n",
    "\"--crop\",           \n",
    "\"--pad\",            \n",
    "\"--length_frames\", \"880\"  \n",
    "]\n",
    "\n",
    "args = parser.parse_args(config)\n",
    "\n",
    "merge_melspecs(args)"
   ]
  },
  {
   "cell_type": "code",
   "execution_count": 16,
   "metadata": {
    "Collapsed": "false"
   },
   "outputs": [
    {
     "data": {
      "application/vnd.jupyter.widget-view+json": {
       "model_id": "b4b3b464219342c2b71dd8a37841332b",
       "version_major": 2,
       "version_minor": 0
      },
      "text/plain": [
       "HBox(children=(FloatProgress(value=0.0, max=254636.0), HTML(value='')))"
      ]
     },
     "metadata": {},
     "output_type": "display_data"
    }
   ],
   "source": [
    "config = [\n",
    "'--tidfile', \"/home/schindlera/experiments/ismir2020_reviews/eval_partition_trackids_test.csv\", \n",
    "\"--src\",     \"/home/schindlera/sshfs/spark_master_schindlera/MSD/melspec_128_10seconds_2ch/\",\n",
    "\"--dst\",     \"/home/schindlera/experiments/ismir2020_reviews/melspec_128_10seconds_2ch_test.npz\",\n",
    "\"--crop\",           \n",
    "\"--pad\",            \n",
    "\"--length_frames\", \"880\"  \n",
    "]\n",
    "\n",
    "args = parser.parse_args(config)\n",
    "\n",
    "merge_melspecs(args)"
   ]
  }
 ],
 "metadata": {
  "kernelspec": {
   "display_name": "base36",
   "language": "python",
   "name": "base36"
  },
  "language_info": {
   "codemirror_mode": {
    "name": "ipython",
    "version": 3
   },
   "file_extension": ".py",
   "mimetype": "text/x-python",
   "name": "python",
   "nbconvert_exporter": "python",
   "pygments_lexer": "ipython3",
   "version": "3.6.10"
  }
 },
 "nbformat": 4,
 "nbformat_minor": 4
}
